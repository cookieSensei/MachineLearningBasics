{
 "cells": [
  {
   "cell_type": "markdown",
   "id": "93878e8b",
   "metadata": {
    "id": "93878e8b"
   },
   "source": [
    "**Note:**\n",
    "\n",
    "**Don't be stressed out with any python code, this is a mathematics tutorial, so just focus on mathematics and build your intuition.**"
   ]
  },
  {
   "cell_type": "markdown",
   "id": "9ed9c7e4",
   "metadata": {
    "id": "9ed9c7e4"
   },
   "source": [
    "# Machine Learning"
   ]
  },
  {
   "cell_type": "markdown",
   "id": "2484268e",
   "metadata": {
    "id": "2484268e"
   },
   "source": [
    "Artificial Intelligence needs no introduction for us programmers. But when most people talk about AI, they imagine an intelligent machine capable of learning or thinking like we humans do. While to some extent it's true, but it's wrong to say it's completely right.\n",
    "AI simply is a result of some mathematical and statistical algorithms and today we'll learn the basics of how these algorithm works. \n",
    "\n",
    "Let's talk about what machine learning is. The set of mathematical algorithms which our AI systems use behind the curtains is called the machine learning.\n",
    "\n",
    "So, machine learning is the process of how our computers gets trained to learn like humans while AI (in general) is the end result.\n",
    "\n"
   ]
  },
  {
   "cell_type": "markdown",
   "id": "737aa5fe",
   "metadata": {
    "id": "737aa5fe"
   },
   "source": [
    "There are (in general) three types of Machine Learning Techniques: \n",
    "\n",
    "* Supervised Learning\n",
    "* Unsupervised Learning\n",
    "* Re-inforcement Learning"
   ]
  },
  {
   "cell_type": "markdown",
   "id": "7633dc03",
   "metadata": {
    "id": "7633dc03"
   },
   "source": [
    "### Supervised Learning:\n",
    "* Regression - Predict numerical outputs\n",
    "* Classification - Predict categorical outputs (yes/no)"
   ]
  },
  {
   "cell_type": "markdown",
   "id": "5f46d40d",
   "metadata": {
    "id": "5f46d40d"
   },
   "source": [
    "### Re-inforcement Learning:\n",
    "\n",
    "To simplify: The robots that you see over on youtube videos or maybe a game AI that's so hard to beat. For example, in chess there're different difficulty levels (advanced AI) which could scare best among the best of chess players. Its working is based on mathematical agents (algorithm of action, state, reward) which is really not the focus of today's tutorial.\n",
    "\n",
    "Anyhow, we don't usually use reinforcement learning, so let's talk about what we use 90% of the time i.e. Supervised and Unsupervised Learning. And believe it or not, it all starts from just a mathematical line called regression. \n",
    "\n",
    "Even if we talk about deep learning with deep neural networks, it all starts with a simple line equation. So, let's understand what line equation is and how it helps to make predictions using Regression."
   ]
  },
  {
   "cell_type": "markdown",
   "id": "dd91d138",
   "metadata": {
    "id": "dd91d138"
   },
   "source": [
    "## Intuition based Regression model"
   ]
  },
  {
   "cell_type": "markdown",
   "id": "bf2b2e3b",
   "metadata": {
    "id": "bf2b2e3b"
   },
   "source": [
    "Let's imagine a hypothetical case where our objective is to predict salaries of employees based on their work experience. \n",
    "To simplify things, we will assume that salary increases as work experience increase. \n",
    "\n",
    "So, now assume that in this hypothetical case, we have past data of 3 employees."
   ]
  },
  {
   "cell_type": "code",
   "execution_count": 1,
   "id": "9d109761",
   "metadata": {
    "id": "9d109761"
   },
   "outputs": [],
   "source": [
    "import numpy as np\n",
    "import pandas as pd\n",
    "import matplotlib.pyplot as plt\n",
    "import seaborn as sns"
   ]
  },
  {
   "cell_type": "code",
   "execution_count": 2,
   "id": "3fa3d702",
   "metadata": {
    "colab": {
     "base_uri": "https://localhost:8080/",
     "height": 143
    },
    "executionInfo": {
     "elapsed": 61,
     "status": "ok",
     "timestamp": 1673476365978,
     "user": {
      "displayName": "ASHISH62",
      "userId": "08401911432788129274"
     },
     "user_tz": -330
    },
    "id": "3fa3d702",
    "outputId": "db7effe2-000e-4e58-9184-75522a1d462f"
   },
   "outputs": [
    {
     "data": {
      "text/html": [
       "<div>\n",
       "<style scoped>\n",
       "    .dataframe tbody tr th:only-of-type {\n",
       "        vertical-align: middle;\n",
       "    }\n",
       "\n",
       "    .dataframe tbody tr th {\n",
       "        vertical-align: top;\n",
       "    }\n",
       "\n",
       "    .dataframe thead th {\n",
       "        text-align: right;\n",
       "    }\n",
       "</style>\n",
       "<table border=\"1\" class=\"dataframe\">\n",
       "  <thead>\n",
       "    <tr style=\"text-align: right;\">\n",
       "      <th></th>\n",
       "      <th>work_experience</th>\n",
       "      <th>salary</th>\n",
       "    </tr>\n",
       "  </thead>\n",
       "  <tbody>\n",
       "    <tr>\n",
       "      <th>employee0</th>\n",
       "      <td>1</td>\n",
       "      <td>1000</td>\n",
       "    </tr>\n",
       "    <tr>\n",
       "      <th>employee1</th>\n",
       "      <td>2</td>\n",
       "      <td>2000</td>\n",
       "    </tr>\n",
       "    <tr>\n",
       "      <th>employee2</th>\n",
       "      <td>3</td>\n",
       "      <td>3000</td>\n",
       "    </tr>\n",
       "  </tbody>\n",
       "</table>\n",
       "</div>"
      ],
      "text/plain": [
       "           work_experience  salary\n",
       "employee0                1    1000\n",
       "employee1                2    2000\n",
       "employee2                3    3000"
      ]
     },
     "execution_count": 2,
     "metadata": {},
     "output_type": "execute_result"
    }
   ],
   "source": [
    "df1 = pd.DataFrame({\n",
    "    \"work_experience\" : range(1, 4),\n",
    "    \"salary\" : np.array(range(1, 4)) * 1000\n",
    "}, index=[\"employee0\", \"employee1\", \"employee2\"])\n",
    "df1"
   ]
  },
  {
   "cell_type": "markdown",
   "id": "b280f135",
   "metadata": {
    "id": "b280f135"
   },
   "source": [
    "So, now look at the data and now look at the visualization below. Again, don't worry about the code."
   ]
  },
  {
   "cell_type": "code",
   "execution_count": 3,
   "id": "3c3cfb7f",
   "metadata": {
    "colab": {
     "base_uri": "https://localhost:8080/",
     "height": 421
    },
    "executionInfo": {
     "elapsed": 60,
     "status": "ok",
     "timestamp": 1673476365979,
     "user": {
      "displayName": "ASHISH62",
      "userId": "08401911432788129274"
     },
     "user_tz": -330
    },
    "id": "3c3cfb7f",
    "outputId": "6e22a46a-741a-4fdf-ed1d-b6c4c4ac9bdb",
    "scrolled": false
   },
   "outputs": [
    {
     "data": {
      "text/plain": [
       "[]"
      ]
     },
     "execution_count": 3,
     "metadata": {},
     "output_type": "execute_result"
    },
    {
     "data": {
      "image/png": "[encoded data removed]",
      "text/plain": [
       "<Figure size 864x432 with 1 Axes>"
      ]
     },
     "metadata": {},
     "output_type": "display_data"
    }
   ],
   "source": [
    "sns.set_style(\"darkgrid\")\n",
    "\n",
    "plt.figure(figsize=(12,6))\n",
    "plt.scatter(df1[\"work_experience\"], df1[\"salary\"], \n",
    "            s=400, color=\"Violet\")\n",
    "\n",
    "plt.title(\"Work experience vs Salary of employees\")\n",
    "plt.xlabel(\"Work Experience in years\")\n",
    "plt.ylabel(\"Salary in dollars\")\n",
    "plt.xlim(0, 6)\n",
    "plt.ylim(0, 6000)\n",
    "\n",
    "\n",
    "plt.plot()"
   ]
  },
  {
   "cell_type": "code",
   "execution_count": 4,
   "id": "f1cd50ef",
   "metadata": {
    "colab": {
     "base_uri": "https://localhost:8080/",
     "height": 143
    },
    "executionInfo": {
     "elapsed": 32,
     "status": "ok",
     "timestamp": 1673476365981,
     "user": {
      "displayName": "ASHISH62",
      "userId": "08401911432788129274"
     },
     "user_tz": -330
    },
    "id": "f1cd50ef",
    "outputId": "a88322c0-1413-44c2-8ca9-e277ca336be0"
   },
   "outputs": [
    {
     "data": {
      "text/html": [
       "<div>\n",
       "<style scoped>\n",
       "    .dataframe tbody tr th:only-of-type {\n",
       "        vertical-align: middle;\n",
       "    }\n",
       "\n",
       "    .dataframe tbody tr th {\n",
       "        vertical-align: top;\n",
       "    }\n",
       "\n",
       "    .dataframe thead th {\n",
       "        text-align: right;\n",
       "    }\n",
       "</style>\n",
       "<table border=\"1\" class=\"dataframe\">\n",
       "  <thead>\n",
       "    <tr style=\"text-align: right;\">\n",
       "      <th></th>\n",
       "      <th>work_experience</th>\n",
       "      <th>salary</th>\n",
       "    </tr>\n",
       "  </thead>\n",
       "  <tbody>\n",
       "    <tr>\n",
       "      <th>employee0</th>\n",
       "      <td>1</td>\n",
       "      <td>1000</td>\n",
       "    </tr>\n",
       "    <tr>\n",
       "      <th>employee1</th>\n",
       "      <td>2</td>\n",
       "      <td>2000</td>\n",
       "    </tr>\n",
       "    <tr>\n",
       "      <th>employee2</th>\n",
       "      <td>3</td>\n",
       "      <td>3000</td>\n",
       "    </tr>\n",
       "  </tbody>\n",
       "</table>\n",
       "</div>"
      ],
      "text/plain": [
       "           work_experience  salary\n",
       "employee0                1    1000\n",
       "employee1                2    2000\n",
       "employee2                3    3000"
      ]
     },
     "execution_count": 4,
     "metadata": {},
     "output_type": "execute_result"
    }
   ],
   "source": [
    "df1"
   ]
  },
  {
   "cell_type": "markdown",
   "id": "4c22ce5c",
   "metadata": {
    "id": "4c22ce5c"
   },
   "source": [
    "In this case, the data has 3 training examples, that is, we have data of 3 employees. Now, our problem statement is to predict salaries of new employees based on this data. \n",
    "\n",
    "Based on our intuition, we can look at the plot and imagine that if an employee has 4 years of experience, their salary should be 4000, right."
   ]
  },
  {
   "cell_type": "code",
   "execution_count": 5,
   "id": "6b5d99e4",
   "metadata": {
    "colab": {
     "base_uri": "https://localhost:8080/",
     "height": 421
    },
    "executionInfo": {
     "elapsed": 32,
     "status": "ok",
     "timestamp": 1673476365982,
     "user": {
      "displayName": "ASHISH62",
      "userId": "08401911432788129274"
     },
     "user_tz": -330
    },
    "id": "6b5d99e4",
    "outputId": "da523f5d-8d6d-412f-8ae0-7d505a9a279e"
   },
   "outputs": [
    {
     "data": {
      "text/plain": [
       "[]"
      ]
     },
     "execution_count": 5,
     "metadata": {},
     "output_type": "execute_result"
    },
    {
     "data": {
      "image/png": "[encoded data removed]",
      "text/plain": [
       "<Figure size 864x432 with 1 Axes>"
      ]
     },
     "metadata": {},
     "output_type": "display_data"
    }
   ],
   "source": [
    "plt.figure(figsize=(12,6))\n",
    "plt.scatter(df1[\"work_experience\"], df1[\"salary\"], \n",
    "            s=400, color=\"Violet\")\n",
    "plt.plot([0, 10], [0, 10000], color=\"black\", lw=4)\n",
    "plt.title(\"Work experience vs Salary of employees\")\n",
    "plt.xlabel(\"Work Experience in years\")\n",
    "plt.ylabel(\"Salary in dollars\")\n",
    "plt.xlim(0, 6)\n",
    "plt.ylim(0, 6000)\n",
    "\n",
    "\n",
    "plt.plot()"
   ]
  },
  {
   "cell_type": "markdown",
   "id": "3af47957",
   "metadata": {
    "id": "3af47957"
   },
   "source": [
    "This black line also represents our hypothesis that the data is linear and confirms for us that if an employee has 4 years of work experience their salary should be 4000"
   ]
  },
  {
   "cell_type": "code",
   "execution_count": 6,
   "id": "cdf01e2c",
   "metadata": {
    "colab": {
     "base_uri": "https://localhost:8080/",
     "height": 421
    },
    "executionInfo": {
     "elapsed": 2592,
     "status": "ok",
     "timestamp": 1673476368546,
     "user": {
      "displayName": "ASHISH62",
      "userId": "08401911432788129274"
     },
     "user_tz": -330
    },
    "id": "cdf01e2c",
    "outputId": "fb83303e-35b0-4e4b-8e21-121ab2449874"
   },
   "outputs": [
    {
     "data": {
      "text/plain": [
       "[]"
      ]
     },
     "execution_count": 6,
     "metadata": {},
     "output_type": "execute_result"
    },
    {
     "data": {
      "image/png": "[encoded data removed]",
      "text/plain": [
       "<Figure size 864x432 with 1 Axes>"
      ]
     },
     "metadata": {},
     "output_type": "display_data"
    }
   ],
   "source": [
    "plt.figure(figsize=(12,6))\n",
    "plt.scatter(df1[\"work_experience\"], df1[\"salary\"], \n",
    "            s=400, color=\"Violet\")\n",
    "\n",
    "plt.scatter([4], [200], color=\"green\", s=500)\n",
    "\n",
    "plt.scatter([4], [4000], color=\"red\", s=500)\n",
    "\n",
    "plt.scatter([0.1], [4000], color=\"yellow\", s=500)\n",
    "\n",
    "plt.plot([0, 10], [0, 10000], color=\"black\", lw=4)\n",
    "\n",
    "plt.plot([4, 4], [0, 4000], color=\"blue\", lw=1)\n",
    "\n",
    "plt.plot([0, 4], [4000, 4000], color=\"blue\", lw=1)\n",
    "\n",
    "plt.title(\"Work experience vs Salary of employees\")\n",
    "plt.xlabel(\"Work Experience in years\")\n",
    "plt.ylabel(\"Salary in dollars\")\n",
    "plt.xlim(0, 6)\n",
    "plt.ylim(0, 6000)\n",
    "\n",
    "\n",
    "plt.plot()"
   ]
  },
  {
   "cell_type": "markdown",
   "id": "45d213f8",
   "metadata": {
    "id": "45d213f8"
   },
   "source": [
    "Locate the green point on the plot which is located on the x axis (work experience in years)\n",
    "\n",
    "Now start from the green point on x axis (work experience data point 4) move upwards vertically while following the blue line till it hits the black line.\n",
    "\n",
    "Now, you've reached the red point. \n",
    "\n",
    "Now, follow the blue line horizontally to its left.\n",
    "\n",
    "Now, you've reached the yellow point. This yellow point tells the salary (4000) on the y axis of the employee with 4 years of work experience.\n",
    "\n",
    "Congrats, you've made your first intuition based machine learning system which predicts employee salaries. \n",
    "\n",
    "Now, if an employee with 5 years of work experience comes, you will be able to tell that their salary should be 5000."
   ]
  },
  {
   "cell_type": "markdown",
   "id": "ceb79368",
   "metadata": {
    "id": "ceb79368"
   },
   "source": [
    "In this hypothetical case, the past data of employees that we used was linear in nature which means there exists a straight line which could represent the whole dataset.\n",
    "\n",
    "In real world though, our data may or may not be linear in nature. But for simplicity sake, we'll assume data is linear and continue to learn our first machine learning algorithm.\n",
    "\n",
    "What we've done so far in machine learning terms is called a hypothesis, an assumption that we make from the behavior of our data, that is in this case, our assumption was that data is linear.\n"
   ]
  },
  {
   "cell_type": "markdown",
   "id": "d87c9a3d",
   "metadata": {
    "id": "d87c9a3d"
   },
   "source": [
    "# Line Equation:"
   ]
  },
  {
   "cell_type": "markdown",
   "id": "a9f74ffe",
   "metadata": {
    "id": "a9f74ffe"
   },
   "source": [
    "For those who already are well versed with line equation, you could choose to skip to **Mathematical model of Regression**.\n",
    "\n",
    "Line equation is given by $$y=ax+b$$\n",
    "\n"
   ]
  },
  {
   "cell_type": "markdown",
   "id": "21b01679",
   "metadata": {
    "id": "21b01679"
   },
   "source": [
    "Line: Take any two points, join them, extend boundaries and you have a line. \n",
    "Let's take two points as (0, 0) and (10, 10). If we join them, we'll have this line."
   ]
  },
  {
   "cell_type": "code",
   "execution_count": 7,
   "id": "62bf0f0a",
   "metadata": {
    "colab": {
     "base_uri": "https://localhost:8080/",
     "height": 721
    },
    "executionInfo": {
     "elapsed": 1235,
     "status": "ok",
     "timestamp": 1673476836565,
     "user": {
      "displayName": "ASHISH62",
      "userId": "08401911432788129274"
     },
     "user_tz": -330
    },
    "id": "62bf0f0a",
    "outputId": "e594d344-92e5-4642-d5a4-9636ff31ea32"
   },
   "outputs": [
    {
     "data": {
      "text/plain": [
       "[]"
      ]
     },
     "execution_count": 7,
     "metadata": {},
     "output_type": "execute_result"
    },
    {
     "data": {
      "image/png": "[encoded data removed]",
      "text/plain": [
       "<Figure size 432x864 with 1 Axes>"
      ]
     },
     "metadata": {},
     "output_type": "display_data"
    }
   ],
   "source": [
    "plt.figure(figsize=(6,12))\n",
    "\n",
    "plt.plot([0, 10], [0, 10], color=\"purple\", lw=4)\n",
    "\n",
    "plt.ylim(0, 20)\n",
    "plt.xlim(0, 10)\n",
    "\n",
    "plt.xticks(np.arange(0, 11, 1))\n",
    "plt.yticks(np.arange(0,22, 1))\n",
    "plt.plot()"
   ]
  },
  {
   "cell_type": "markdown",
   "id": "d2cf0688",
   "metadata": {
    "id": "d2cf0688"
   },
   "source": [
    "Another way to make a line is by using the equation y=ax+b. \n",
    "\n",
    "Here, b is the y-intercept or the point where the line meets y axis.\n",
    "\n",
    "a is the slope of the line.\n",
    "\n",
    "Using just a and b, we can draw any line. The previous line has slope=1, y_intercept=0. Let's try with a slope=2, y_intercept=1.\n",
    "\n",
    "Look how slanted the line has become."
   ]
  },
  {
   "cell_type": "code",
   "execution_count": 8,
   "id": "5501ffb8",
   "metadata": {
    "colab": {
     "base_uri": "https://localhost:8080/",
     "height": 704
    },
    "executionInfo": {
     "elapsed": 954,
     "status": "ok",
     "timestamp": 1673476827347,
     "user": {
      "displayName": "ASHISH62",
      "userId": "08401911432788129274"
     },
     "user_tz": -330
    },
    "id": "5501ffb8",
    "outputId": "1d2d5c19-aaa0-488a-a4a9-79c043577021"
   },
   "outputs": [
    {
     "data": {
      "image/png": "[encoded data removed]",
      "text/plain": [
       "<Figure size 432x864 with 1 Axes>"
      ]
     },
     "metadata": {},
     "output_type": "display_data"
    }
   ],
   "source": [
    "plt.figure(figsize=(6,12))\n",
    "plt.plot([0,10], [1,21], color=\"purple\", lw=4)\n",
    "plt.ylim(0, 20)\n",
    "plt.xlim(0, 10)\n",
    "\n",
    "plt.xticks(np.arange(0, 11, 1))\n",
    "plt.yticks(np.arange(0,22, 1))\n",
    "plt.show()"
   ]
  },
  {
   "cell_type": "markdown",
   "id": "5bc008c1",
   "metadata": {
    "id": "5bc008c1"
   },
   "source": [
    "Conversely, to calculate the slope (a) of the line y=ax+b, we can choose any two points on the line. Let's select (0,1) and (5, 11)\n",
    "    \n",
    "$$a = \\frac{y_2 - y_1}{x_2 - x_1}$$\n",
    "\n",
    "$$a = \\frac{11 - 1}{5 - 0}$$\n",
    "\n",
    "$$a = 2$$\n",
    "\n",
    "$$b = 1 $$\n"
   ]
  },
  {
   "cell_type": "markdown",
   "id": "Yj2Brg8f6Xx1",
   "metadata": {
    "id": "Yj2Brg8f6Xx1"
   },
   "source": [
    "y=2x+1"
   ]
  },
  {
   "cell_type": "markdown",
   "id": "50de0fcd",
   "metadata": {
    "id": "50de0fcd"
   },
   "source": [
    "## Mathematical model of Regression"
   ]
  },
  {
   "cell_type": "markdown",
   "id": "5d36e1f9",
   "metadata": {
    "id": "5d36e1f9"
   },
   "source": [
    "Let's understand the mathematical model of machine learning now (Regression in this case).\n",
    "Linear relationship is mathematically expressed as: \n",
    "\n",
    "* **Line equation**:\n",
    "$$y=ax+b$$\n",
    "\n",
    "Where, a and b are some parameters which can change the behavior of our line\n",
    "\n",
    "a is the slope of the line \n",
    "\n",
    "b is called the y intercept"
   ]
  },
  {
   "cell_type": "markdown",
   "id": "8969485a",
   "metadata": {
    "id": "8969485a"
   },
   "source": [
    "We are already well versed with the line equation. Check out a line equation tutorial if you aren't yet comfortable with the line equation. But for those who remember this, let's proceed.\n",
    "\n",
    "$$y=mx+c$$ \n",
    "\n",
    "\n",
    "Line equation can take up any form\n",
    "\n",
    "\n",
    "$$y=mx+c$$ \n",
    "$$or$$\n",
    "$$y=ax+b$$\n",
    "$$or$$\n",
    "In machine learning terms the equation is\n",
    "\n",
    "$$h_\\theta (x) = \\theta_0 + \\theta_1 x$$\n",
    "\n",
    "In this lecture, we'll assume the terminology\n",
    "\n",
    "$$y=ax+b$$"
   ]
  },
  {
   "cell_type": "markdown",
   "id": "07dabf42",
   "metadata": {
    "id": "07dabf42"
   },
   "source": [
    "Each and every machine learning algorithm follows more or less the same process.\n",
    "\n",
    "First we make a hypothesis, then we test it using some methods if its making correct predictions or not, and if not, then we minimize the errors\n",
    "\n",
    "**Procedure**:\n",
    "\n",
    "1 **Hypothesis**: y=ax+b\n",
    "\n",
    "2 **Hyper-parameters**: a, b\n",
    "\n",
    "    With respect to different hyper-parameters, \n",
    "    nature of the line / hypothesis changes\n",
    "\n",
    "\n",
    "3 **Cost function**: Cost function is how we evaluate the error with respect to a, b\n",
    "    \n",
    "For first time readers, the equation or its notation might look complex, so stick to the process I'll explain everything in it's own sweet time. \n",
    "\n",
    "    MSE: Mean Squared Error\n",
    "\n",
    "$$error(a,b) = \\frac{1}{2m} \\sum\\limits_{i=0}^{m-1} (predictedValue^{(i)} - actualValue^{(i)} )^2$$ \n",
    "\n",
    "    where,\n",
    "    m: total training examples\n",
    "    \n",
    "    i: 0,1,2: (index of an employee)\n",
    "In our problem statement, there are 3 training examples, so (i) could take values 0, 1 or 2. Employee0, Employee1, Employee2. Remember, indexing in python starts at 0, so we're using 0,1,2 as just an analogy.\n",
    "        \n",
    "4 **Objective**: minimize error(a,b) subjected to the hyper-parameters (a,b)"
   ]
  },
  {
   "cell_type": "markdown",
   "id": "2aa97eb6",
   "metadata": {
    "id": "2aa97eb6"
   },
   "source": [
    "### Mean Squared Error\n",
    "\n",
    "$$error(a,b) = \\frac{1}{2m} \\sum\\limits_{i=0}^{m-1} (predictedValue^{(i)} - actualValue^{(i)} )^2$$ \n",
    "\n",
    "    where,\n",
    "    m = 3: total training examples\n",
    "    i = 0, 1, 2\n",
    "   \n",
    "To further simplify things, we'll use the terminology that, predictions made by the black line for the training examples are represented as pred(i) i.e. \n",
    "\n",
    "pred0, pred1, pred2 for predicted salary of employee0, employee1, employee2 respectively\n",
    "\n",
    "While actual salary values will be represented as actual(i) i.e. \n",
    "\n",
    "actual0, actual1, actual2 for actual salary of employee0, employee1, employee2 respectively\n",
    "\n",
    "\n",
    "In our example, we have past data of 3 employees, so we calcuate error as\n",
    "\n",
    "\n",
    "$$error = \\frac{1}{2*3} ((pred0 - actual0)^2 + (pred1 - actual1)^2 + (pred2 - actual2)^2)$$ \n",
    "\n",
    "The actual values for the employee salary were 1000, 2000, 3000 and respectively their salary predicted by the black line were also 1000, 2000, 3000 \n",
    "\n",
    "$$error  =  \\frac{1}{2*3} ((1000 - 1000)^2 + (2000 - 2000)^2 + (3000 - 3000)^2 )$$ \n",
    "\n",
    "\n",
    "\n",
    "$$error = \\frac{1}{6} (0 + 0 + 0)$$ \n",
    "\n",
    "$$error = 0$$"
   ]
  },
  {
   "cell_type": "code",
   "execution_count": 9,
   "id": "cb8e2dbc",
   "metadata": {
    "colab": {
     "base_uri": "https://localhost:8080/",
     "height": 143
    },
    "executionInfo": {
     "elapsed": 37,
     "status": "ok",
     "timestamp": 1673476368548,
     "user": {
      "displayName": "ASHISH62",
      "userId": "08401911432788129274"
     },
     "user_tz": -330
    },
    "id": "cb8e2dbc",
    "outputId": "01de2154-4e7c-4f12-b729-489ec8cb9c7c"
   },
   "outputs": [
    {
     "data": {
      "text/html": [
       "<div>\n",
       "<style scoped>\n",
       "    .dataframe tbody tr th:only-of-type {\n",
       "        vertical-align: middle;\n",
       "    }\n",
       "\n",
       "    .dataframe tbody tr th {\n",
       "        vertical-align: top;\n",
       "    }\n",
       "\n",
       "    .dataframe thead th {\n",
       "        text-align: right;\n",
       "    }\n",
       "</style>\n",
       "<table border=\"1\" class=\"dataframe\">\n",
       "  <thead>\n",
       "    <tr style=\"text-align: right;\">\n",
       "      <th></th>\n",
       "      <th>work_experience</th>\n",
       "      <th>salary</th>\n",
       "    </tr>\n",
       "  </thead>\n",
       "  <tbody>\n",
       "    <tr>\n",
       "      <th>employee0</th>\n",
       "      <td>1</td>\n",
       "      <td>1000</td>\n",
       "    </tr>\n",
       "    <tr>\n",
       "      <th>employee1</th>\n",
       "      <td>2</td>\n",
       "      <td>2000</td>\n",
       "    </tr>\n",
       "    <tr>\n",
       "      <th>employee2</th>\n",
       "      <td>3</td>\n",
       "      <td>3000</td>\n",
       "    </tr>\n",
       "  </tbody>\n",
       "</table>\n",
       "</div>"
      ],
      "text/plain": [
       "           work_experience  salary\n",
       "employee0                1    1000\n",
       "employee1                2    2000\n",
       "employee2                3    3000"
      ]
     },
     "execution_count": 9,
     "metadata": {},
     "output_type": "execute_result"
    }
   ],
   "source": [
    "df1"
   ]
  },
  {
   "cell_type": "code",
   "execution_count": 10,
   "id": "661383f2",
   "metadata": {
    "colab": {
     "base_uri": "https://localhost:8080/",
     "height": 421
    },
    "executionInfo": {
     "elapsed": 37,
     "status": "ok",
     "timestamp": 1673476368549,
     "user": {
      "displayName": "ASHISH62",
      "userId": "08401911432788129274"
     },
     "user_tz": -330
    },
    "id": "661383f2",
    "outputId": "f4e44d44-fcb4-4f99-abad-2bea1ce3673d"
   },
   "outputs": [
    {
     "data": {
      "text/plain": [
       "[]"
      ]
     },
     "execution_count": 10,
     "metadata": {},
     "output_type": "execute_result"
    },
    {
     "data": {
      "image/png": "[encoded data removed]",
      "text/plain": [
       "<Figure size 864x432 with 1 Axes>"
      ]
     },
     "metadata": {},
     "output_type": "display_data"
    }
   ],
   "source": [
    "plt.figure(figsize=(12,6))\n",
    "plt.scatter(df1[\"work_experience\"], df1[\"salary\"], \n",
    "            s=400, color=\"Violet\")\n",
    "plt.plot([0, 10], [0, 10000], color=\"black\", lw=4)\n",
    "plt.title(\"Work experience vs Salary of employees\")\n",
    "plt.xlabel(\"Work Experience in years\")\n",
    "plt.ylabel(\"Salary in dollars\")\n",
    "plt.xlim(-0.1, 6)\n",
    "plt.ylim(-100, 6000)\n",
    "\n",
    "plt.plot()"
   ]
  },
  {
   "cell_type": "markdown",
   "id": "3cefe66d",
   "metadata": {
    "id": "3cefe66d"
   },
   "source": [
    "### Deep dive into basics of mathematical Regression"
   ]
  },
  {
   "cell_type": "markdown",
   "id": "63c3d33d",
   "metadata": {
    "id": "63c3d33d"
   },
   "source": [
    "In this case we already knew the correct hyper-parameters (a,b) (a=1000, b=0) for the line equation (y=1000x). But, usually our data is not so simple that we could correctly guess the hyper-parameters (a,b). There could be various other reasons that might constrain us from reaching correct hyper-parameters. We'll get into those details later on.\n",
    "\n",
    "* What usually happens in machine learning is that we first assume random set of hyper-parameters.\n",
    "\n",
    "* Then, we use **cost-function** to calculate the error subjected to the chosen hyper-parameters.\n",
    "\n",
    "* Lastly, we use an optimization algorithm like **gradient-descent** to minimise the error. But, for simplicity sake, we'll manually tweak hyper-parameters to reduce error without using gradient descent."
   ]
  },
  {
   "cell_type": "markdown",
   "id": "c445fb8c",
   "metadata": {
    "id": "c445fb8c"
   },
   "source": [
    "**First set of hyper-parameters a=0, b=0**"
   ]
  },
  {
   "cell_type": "markdown",
   "id": "c31301fd",
   "metadata": {
    "id": "c31301fd"
   },
   "source": [
    "We are already comfortable with our dataset. Now, let's assume some random set of hyper-parameters (a,b). For simplicity's sake, we'll change only a here keeping b as zero.\n",
    "\n",
    "a = 0\n",
    "\n",
    "b = 0\n",
    "\n",
    "Our line equation y = ax+b now becomes \n",
    "\n",
    "$$y = 0$$"
   ]
  },
  {
   "cell_type": "code",
   "execution_count": 11,
   "id": "4d79a3ae",
   "metadata": {
    "colab": {
     "base_uri": "https://localhost:8080/",
     "height": 421
    },
    "executionInfo": {
     "elapsed": 34,
     "status": "ok",
     "timestamp": 1673476368549,
     "user": {
      "displayName": "ASHISH62",
      "userId": "08401911432788129274"
     },
     "user_tz": -330
    },
    "id": "4d79a3ae",
    "outputId": "0645a72a-09f1-4a20-8fff-545f8c3a2429"
   },
   "outputs": [
    {
     "data": {
      "text/plain": [
       "[]"
      ]
     },
     "execution_count": 11,
     "metadata": {},
     "output_type": "execute_result"
    },
    {
     "data": {
      "image/png": "[encoded data removed]",
      "text/plain": [
       "<Figure size 864x432 with 1 Axes>"
      ]
     },
     "metadata": {},
     "output_type": "display_data"
    }
   ],
   "source": [
    "plt.figure(figsize=(12,6))\n",
    "plt.scatter(df1[\"work_experience\"], df1[\"salary\"], \n",
    "            s=400, color=\"Violet\")\n",
    "\n",
    "plt.scatter([1,2,3], [0,0,0], s=200, alpha=0.4, color=\"green\")\n",
    "plt.plot([0, 10], [0, 0], color=\"black\", lw=4)\n",
    "\n",
    "plt.plot([1,1], [0, 1000], color=\"yellow\", lw=1)\n",
    "\n",
    "plt.plot([2,2], [0, 2000], color=\"yellow\", lw=1)\n",
    "\n",
    "plt.plot([3,3], [0, 3000], color=\"yellow\", lw=1)\n",
    "\n",
    "plt.title(\"Work experience vs Salary of employees\")\n",
    "plt.xlabel(\"Work Experience in years\")\n",
    "plt.ylabel(\"Salary in dollars\")\n",
    "plt.xlim(-0.1, 6)\n",
    "plt.ylim(-200, 6000)\n",
    "\n",
    "plt.plot()"
   ]
  },
  {
   "cell_type": "markdown",
   "id": "baa5f57c",
   "metadata": {
    "id": "baa5f57c"
   },
   "source": [
    "Look at the black line now. It's equation is y=0 subjected to hyper-parameters (a=0,b=0)\n",
    "\n",
    "Of course, we are using wrong a,b values as a demonstration, so this line is making its own different set of predictions (Green dots on the black line)\n",
    "\n",
    "Anyhow, now our predictions are different from actual values, so let's calculate error using our cost function MSE.\n",
    "\n",
    "$$error = \\frac{1}{2*3} ((pred0 - actual0)^2 + (pred1 - actual1)^2 + (pred2 - actual2)^2)$$ \n",
    "\n",
    "\n",
    "$$error(0, 0)  =  \\frac{1}{2*3} ((0 - 1000)^2 + (0 - 2000)^2 + (0 - 3000)^2 )$$ \n",
    "\n",
    "\n",
    "\n",
    "$$error(0, 0) = \\frac{1}{6} (1000,000 + 4000,000 + 9000,000)$$ \n",
    "\n",
    "$$error(0, 0) = \\frac{1}{6} * 14000,000$$\n",
    "\n",
    "$$error(0, 0) = 2,333,333$$\n",
    "\n"
   ]
  },
  {
   "cell_type": "markdown",
   "id": "f96410f8",
   "metadata": {
    "id": "f96410f8"
   },
   "source": [
    "**Second set of hyper-parameters a=2000, b=0**\n",
    "\n",
    "Line equation: $$y=2000x$$"
   ]
  },
  {
   "cell_type": "code",
   "execution_count": 12,
   "id": "8dc7ccd8",
   "metadata": {
    "colab": {
     "base_uri": "https://localhost:8080/",
     "height": 421
    },
    "executionInfo": {
     "elapsed": 32,
     "status": "ok",
     "timestamp": 1673476368550,
     "user": {
      "displayName": "ASHISH62",
      "userId": "08401911432788129274"
     },
     "user_tz": -330
    },
    "id": "8dc7ccd8",
    "outputId": "f7367ffe-d640-432c-ae10-1442258e86d4"
   },
   "outputs": [
    {
     "data": {
      "text/plain": [
       "[]"
      ]
     },
     "execution_count": 12,
     "metadata": {},
     "output_type": "execute_result"
    },
    {
     "data": {
      "image/png": "[encoded data removed]",
      "text/plain": [
       "<Figure size 864x432 with 1 Axes>"
      ]
     },
     "metadata": {},
     "output_type": "display_data"
    }
   ],
   "source": [
    "plt.figure(figsize=(12,6))\n",
    "plt.scatter(df1[\"work_experience\"], df1[\"salary\"], \n",
    "            s=400, color=\"Violet\")\n",
    "\n",
    "plt.scatter([1,2,3], [2000,4000,6000], s=200, alpha=0.4, color=\"green\")\n",
    "plt.plot([0, 10], [0, 20000], color=\"black\", lw=4)\n",
    "\n",
    "plt.plot([1,1], [1000, 2000], color=\"yellow\", lw=1)\n",
    "\n",
    "plt.plot([2,2], [2000, 4000], color=\"yellow\", lw=1)\n",
    "\n",
    "plt.plot([3,3], [3000, 6000], color=\"yellow\", lw=1)\n",
    "\n",
    "plt.title(\"Work experience vs Salary of employees\")\n",
    "plt.xlabel(\"Work Experience in years\")\n",
    "plt.ylabel(\"Salary in dollars\")\n",
    "plt.xlim(-0.1, 6)\n",
    "plt.ylim(-200, 6000)\n",
    "\n",
    "plt.plot()"
   ]
  },
  {
   "cell_type": "markdown",
   "id": "b7a00fef",
   "metadata": {
    "id": "b7a00fef"
   },
   "source": [
    "Look at the black line now. It's equation is y=2000x subjected to hyper-parameters (a=2000,b=0)\n",
    "\n",
    "Let's calculate error using our cost function MSE.\n",
    "\n",
    "$$error = \\frac{1}{2*3} ((pred0 - actual0)^2 + (pred1 - actual1)^2 + (pred2 - actual2)^2)$$ \n",
    "\n",
    "\n",
    "$$error(2000, 0)  =  \\frac{1}{2*3} ((2000 - 1000)^2 + (4000 - 2000)^2 + (6000 - 3000)^2 )$$ \n",
    "\n",
    "\n",
    "\n",
    "$$error(2000, 0) = \\frac{1}{6} (1000,000 + 4000,000 + 9000,000)$$ \n",
    "\n",
    "$$error(2000, 0) = \\frac{1}{6} * 14000,000$$\n",
    "\n",
    "$$error(2000, 0) = 2,333,333$$"
   ]
  },
  {
   "cell_type": "markdown",
   "id": "84718ebc",
   "metadata": {
    "id": "84718ebc"
   },
   "source": [
    "**Third set of hyper-parameters a=500, b=0**\n",
    "\n",
    "Line equation: $$y=500x$$"
   ]
  },
  {
   "cell_type": "code",
   "execution_count": 13,
   "id": "1fde1761",
   "metadata": {
    "colab": {
     "base_uri": "https://localhost:8080/",
     "height": 421
    },
    "executionInfo": {
     "elapsed": 2621,
     "status": "ok",
     "timestamp": 1673476371142,
     "user": {
      "displayName": "ASHISH62",
      "userId": "08401911432788129274"
     },
     "user_tz": -330
    },
    "id": "1fde1761",
    "outputId": "220beed1-d83f-4d8b-a038-265720149556"
   },
   "outputs": [
    {
     "data": {
      "text/plain": [
       "[]"
      ]
     },
     "execution_count": 13,
     "metadata": {},
     "output_type": "execute_result"
    },
    {
     "data": {
      "image/png": "[encoded data removed]",
      "text/plain": [
       "<Figure size 864x432 with 1 Axes>"
      ]
     },
     "metadata": {},
     "output_type": "display_data"
    }
   ],
   "source": [
    "plt.figure(figsize=(12,6))\n",
    "plt.scatter(df1[\"work_experience\"], df1[\"salary\"], \n",
    "            s=400, color=\"Violet\")\n",
    "\n",
    "plt.scatter([1,2,3], [500,1000,1500], s=200, alpha=0.4, color=\"green\")\n",
    "plt.plot([0, 10], [0, 5000], color=\"black\", lw=4)\n",
    "\n",
    "plt.plot([1,1], [500, 1000], color=\"yellow\", lw=1)\n",
    "\n",
    "plt.plot([2,2], [1000, 2000], color=\"yellow\", lw=1)\n",
    "\n",
    "plt.plot([3,3], [1500, 3000], color=\"yellow\", lw=1)\n",
    "\n",
    "plt.title(\"Work experience vs Salary of employees\")\n",
    "plt.xlabel(\"Work Experience in years\")\n",
    "plt.ylabel(\"Salary in dollars\")\n",
    "plt.xlim(-0.1, 6)\n",
    "plt.ylim(-200, 6000)\n",
    "\n",
    "plt.plot()"
   ]
  },
  {
   "cell_type": "markdown",
   "id": "092b8d84",
   "metadata": {
    "id": "092b8d84"
   },
   "source": [
    "Look at the black line now. It's equation is y=500x subjected to hyper-parameters (a=500,b=0)\n",
    "\n",
    "Let's calculate error using our cost function MSE.\n",
    "\n",
    "$$error = \\frac{1}{2*3} ((pred0 - actual0)^2 + (pred1 - actual1)^2 + (pred2 - actual2)^2)$$ \n",
    "\n",
    "\n",
    "$$error(500, 0)  =  \\frac{1}{2*3} ((500 - 1000)^2 + (1000 - 2000)^2 + (1500 - 3000)^2 )$$ \n",
    "\n",
    "\n",
    "\n",
    "$$error(500, 0) = \\frac{1}{6} (500^2 + 1000^2 + 1500^2)$$ \n",
    "\n",
    "$$error(500, 0) = \\frac{1}{6} (250,000 + 1000,000 + 2250,000)$$ \n",
    "\n",
    "$$error(500, 0) = \\frac{1}{6} * 3500,000$$\n",
    "\n",
    "$$error(500, 0) = 583,333$$"
   ]
  },
  {
   "cell_type": "markdown",
   "id": "cdaa5a35",
   "metadata": {
    "id": "cdaa5a35"
   },
   "source": [
    "**Fourth set of hyper-parameters a=1500, b=0**\n",
    "\n",
    "Line equation: $$y=1500x$$"
   ]
  },
  {
   "cell_type": "code",
   "execution_count": 14,
   "id": "8f9c8665",
   "metadata": {
    "colab": {
     "base_uri": "https://localhost:8080/",
     "height": 421
    },
    "executionInfo": {
     "elapsed": 41,
     "status": "ok",
     "timestamp": 1673476371143,
     "user": {
      "displayName": "ASHISH62",
      "userId": "08401911432788129274"
     },
     "user_tz": -330
    },
    "id": "8f9c8665",
    "outputId": "a63a5f78-148f-4f48-ded4-53a77340567a"
   },
   "outputs": [
    {
     "data": {
      "text/plain": [
       "[]"
      ]
     },
     "execution_count": 14,
     "metadata": {},
     "output_type": "execute_result"
    },
    {
     "data": {
      "image/png": "[encoded data removed]",
      "text/plain": [
       "<Figure size 864x432 with 1 Axes>"
      ]
     },
     "metadata": {},
     "output_type": "display_data"
    }
   ],
   "source": [
    "plt.figure(figsize=(12,6))\n",
    "plt.scatter(df1[\"work_experience\"], df1[\"salary\"], \n",
    "            s=400, color=\"Violet\")\n",
    "\n",
    "plt.scatter([1,2,3], [1500,3000,4500], s=200, alpha=0.4, color=\"green\")\n",
    "plt.plot([0, 10], [0, 15000], color=\"black\", lw=4)\n",
    "\n",
    "plt.plot([1,1], [1000, 1500], color=\"yellow\", lw=1)\n",
    "\n",
    "plt.plot([2,2], [2000, 3000], color=\"yellow\", lw=1)\n",
    "\n",
    "plt.plot([3,3], [3000, 4500], color=\"yellow\", lw=1)\n",
    "\n",
    "plt.title(\"Work experience vs Salary of employees\")\n",
    "plt.xlabel(\"Work Experience in years\")\n",
    "plt.ylabel(\"Salary in dollars\")\n",
    "plt.xlim(-0.1, 6)\n",
    "plt.ylim(-200, 6000)\n",
    "\n",
    "plt.plot()"
   ]
  },
  {
   "cell_type": "markdown",
   "id": "3f7ea968",
   "metadata": {
    "id": "3f7ea968"
   },
   "source": [
    "Look at the black line now. It's equation is y=1500x subjected to hyper-parameters (a=1500,b=0)\n",
    "\n",
    "Let's calculate error using our cost function MSE.\n",
    "\n",
    "$$error = \\frac{1}{2*3} ((pred0 - actual0)^2 + (pred1 - actual1)^2 + (pred2 - actual2)^2)$$ \n",
    "\n",
    "\n",
    "$$error(1500, 0)  =  \\frac{1}{2*3} ((1500 - 1000)^2 + (3000 - 2000)^2 + (4500 - 3000)^2 )$$ \n",
    "\n",
    "\n",
    "\n",
    "$$error(1500, 0) = \\frac{1}{6} (500^2 + 1000^2 + 1500^2)$$ \n",
    "\n",
    "$$error(1500, 0) = \\frac{1}{6} (250,000 + 1000,000 + 2250,000)$$ \n",
    "\n",
    "$$error(1500, 0) = \\frac{1}{6} * 3500,000$$\n",
    "\n",
    "$$error(1500, 0) = 583,333$$"
   ]
  },
  {
   "cell_type": "markdown",
   "id": "6a55beee",
   "metadata": {
    "id": "6a55beee"
   },
   "source": [
    "**Fifth set of hyper-parameters a=250, b=0**\n",
    "\n",
    "Line equation now becomes: $$y=250x$$"
   ]
  },
  {
   "cell_type": "code",
   "execution_count": 15,
   "id": "55fe9860",
   "metadata": {
    "colab": {
     "base_uri": "https://localhost:8080/",
     "height": 421
    },
    "executionInfo": {
     "elapsed": 37,
     "status": "ok",
     "timestamp": 1673476371143,
     "user": {
      "displayName": "ASHISH62",
      "userId": "08401911432788129274"
     },
     "user_tz": -330
    },
    "id": "55fe9860",
    "outputId": "e2610309-8fbe-4d5b-e84d-e0ba454f269d"
   },
   "outputs": [
    {
     "data": {
      "text/plain": [
       "[]"
      ]
     },
     "execution_count": 15,
     "metadata": {},
     "output_type": "execute_result"
    },
    {
     "data": {
      "image/png": "[encoded data removed]",
      "text/plain": [
       "<Figure size 864x432 with 1 Axes>"
      ]
     },
     "metadata": {},
     "output_type": "display_data"
    }
   ],
   "source": [
    "plt.figure(figsize=(12,6))\n",
    "plt.scatter(df1[\"work_experience\"], df1[\"salary\"], \n",
    "            s=400, color=\"Violet\")\n",
    "\n",
    "plt.scatter([1,2,3], [250,500,750], s=200, alpha=0.4, color=\"green\")\n",
    "plt.plot([0, 10], [0, 2500], color=\"black\", lw=4)\n",
    "\n",
    "plt.plot([1,1], [250, 1000], color=\"yellow\", lw=1)\n",
    "\n",
    "plt.plot([2,2], [500, 2000], color=\"yellow\", lw=1)\n",
    "\n",
    "plt.plot([3,3], [750, 3000], color=\"yellow\", lw=1)\n",
    "\n",
    "plt.title(\"Work experience vs Salary of employees\")\n",
    "plt.xlabel(\"Work Experience in years\")\n",
    "plt.ylabel(\"Salary in dollars\")\n",
    "plt.xlim(-0.1, 6)\n",
    "plt.ylim(-200, 6000)\n",
    "\n",
    "plt.plot()"
   ]
  },
  {
   "cell_type": "markdown",
   "id": "b69f1462",
   "metadata": {
    "id": "b69f1462"
   },
   "source": [
    "Look at the black line now. It's equation is y=250x subjected to hyper-parameters (a=250,b=0)\n",
    "\n",
    "Let's calculate error using our cost function MSE.\n",
    "\n",
    "$$error = \\frac{1}{2*3} ((pred0 - actual0)^2 + (pred1 - actual1)^2 + (pred2 - actual2)^2)$$ \n",
    "\n",
    "\n",
    "$$error(250, 0)  =  \\frac{1}{2*3} ((250 - 1000)^2 + (500 - 2000)^2 + (750 - 3000)^2 )$$ \n",
    "\n",
    "\n",
    "\n",
    "$$error(250, 0) = \\frac{1}{6} (750^2 + 1500^2 + 2250^2)$$ \n",
    "\n",
    "$$error(250, 0) = \\frac{1}{6} (562,500 + 2250,000 + 5062,500)$$ \n",
    "\n",
    "$$error(250, 0) = \\frac{1}{6} * 7875,000$$\n",
    "\n",
    "$$error(250, 0) = 1312,500$$"
   ]
  },
  {
   "cell_type": "code",
   "execution_count": 16,
   "id": "93e8da90",
   "metadata": {
    "colab": {
     "base_uri": "https://localhost:8080/",
     "height": 237
    },
    "executionInfo": {
     "elapsed": 35,
     "status": "ok",
     "timestamp": 1673476371145,
     "user": {
      "displayName": "ASHISH62",
      "userId": "08401911432788129274"
     },
     "user_tz": -330
    },
    "id": "93e8da90",
    "outputId": "a21164c9-f354-4104-bee9-8f40f373b119"
   },
   "outputs": [
    {
     "data": {
      "text/html": [
       "<div>\n",
       "<style scoped>\n",
       "    .dataframe tbody tr th:only-of-type {\n",
       "        vertical-align: middle;\n",
       "    }\n",
       "\n",
       "    .dataframe tbody tr th {\n",
       "        vertical-align: top;\n",
       "    }\n",
       "\n",
       "    .dataframe thead th {\n",
       "        text-align: right;\n",
       "    }\n",
       "</style>\n",
       "<table border=\"1\" class=\"dataframe\">\n",
       "  <thead>\n",
       "    <tr style=\"text-align: right;\">\n",
       "      <th></th>\n",
       "      <th>a</th>\n",
       "      <th>error</th>\n",
       "    </tr>\n",
       "  </thead>\n",
       "  <tbody>\n",
       "    <tr>\n",
       "      <th>1</th>\n",
       "      <td>0</td>\n",
       "      <td>2333333</td>\n",
       "    </tr>\n",
       "    <tr>\n",
       "      <th>5</th>\n",
       "      <td>250</td>\n",
       "      <td>1312500</td>\n",
       "    </tr>\n",
       "    <tr>\n",
       "      <th>3</th>\n",
       "      <td>500</td>\n",
       "      <td>583333</td>\n",
       "    </tr>\n",
       "    <tr>\n",
       "      <th>0</th>\n",
       "      <td>1000</td>\n",
       "      <td>0</td>\n",
       "    </tr>\n",
       "    <tr>\n",
       "      <th>4</th>\n",
       "      <td>1500</td>\n",
       "      <td>583333</td>\n",
       "    </tr>\n",
       "    <tr>\n",
       "      <th>2</th>\n",
       "      <td>2000</td>\n",
       "      <td>2333333</td>\n",
       "    </tr>\n",
       "  </tbody>\n",
       "</table>\n",
       "</div>"
      ],
      "text/plain": [
       "      a    error\n",
       "1     0  2333333\n",
       "5   250  1312500\n",
       "3   500   583333\n",
       "0  1000        0\n",
       "4  1500   583333\n",
       "2  2000  2333333"
      ]
     },
     "execution_count": 16,
     "metadata": {},
     "output_type": "execute_result"
    }
   ],
   "source": [
    "error_df = pd.DataFrame({\"a\" : [1000, 0, 2000, 500, 1500, 250],\n",
    "                         \"error\" : [0, 2333333, 2333333, 583333, 583333, 1312500]\n",
    "                        })\n",
    "error_df.sort_values(by=\"a\", inplace=True)\n",
    "\n",
    "error_df"
   ]
  },
  {
   "cell_type": "code",
   "execution_count": 23,
   "id": "6cbd7a97",
   "metadata": {
    "colab": {
     "base_uri": "https://localhost:8080/",
     "height": 421
    },
    "executionInfo": {
     "elapsed": 34,
     "status": "ok",
     "timestamp": 1673476371146,
     "user": {
      "displayName": "ASHISH62",
      "userId": "08401911432788129274"
     },
     "user_tz": -330
    },
    "id": "6cbd7a97",
    "outputId": "f199cba5-4968-4237-9002-59ffc760722c"
   },
   "outputs": [
    {
     "data": {
      "image/png": "[encoded data removed]",
      "text/plain": [
       "<Figure size 864x432 with 1 Axes>"
      ]
     },
     "metadata": {},
     "output_type": "display_data"
    }
   ],
   "source": [
    "from scipy.interpolate import make_interp_spline\n",
    "\n",
    "x = np.array(error_df[\"a\"])\n",
    "y = np.array(error_df[\"error\"])\n",
    " \n",
    "X_Y_Spline = make_interp_spline(x, y)\n",
    " \n",
    "X_ = np.linspace(x.min(), x.max(), 500)\n",
    "Y_ = X_Y_Spline(X_)\n",
    "\n",
    "plt.figure(figsize=(12,6))\n",
    "plt.scatter(error_df[\"a\"], error_df[\"error\"], \n",
    "            s=400, color=\"Violet\")\n",
    "\n",
    "plt.scatter(error_df[\"a\"], error_df[\"error\"])\n",
    "\n",
    "plt.plot(X_, Y_)\n",
    "\n",
    "plt.title(\"Hyper-parameter a vs Mean Squared Error\")\n",
    "plt.xlabel(\"Value of Hyper-parameter a\")\n",
    "plt.ylabel(\"MSE\")\n",
    "plt.xlim(-250, 2500)\n",
    "plt.ylim(-100000, 4000000)\n",
    "\n",
    "plt.plot()\n",
    "plt.savefig(\"Mean Squared Error.png\")"
   ]
  },
  {
   "cell_type": "markdown",
   "id": "c4afc4bd",
   "metadata": {
    "id": "c4afc4bd"
   },
   "source": [
    "Look at the plot above which contains hyper-parameter (a) values on x axis and respective Mean Squared Error on y axis. You could notice the behaviour of MSE that as the hyper-parameter reaches the optimum value (a=1000), MSE is minimised.\n",
    "\n",
    "In this whole mathematical approach, we tried out bunch of hyper-parameter combinations till we finally found the optimum one. There's a very useful algorithm called gradient descent, let's for simplicity sake, say that gradient descent works the same way. \n",
    "\n",
    "First, the cost function is calculated with random set of hyper-parameters, then step by step that cost function (MSE in this case) is reduced till optimum solution is found. In python, we usually use scikit-learn (sklearn) to do our machine learning tasks and this background working of gradient descent is usually hidden from the end user, but it helps to know such background algorithms to know how things work. We'll later talk in detail more about why we should learn gradient descent and how it helps."
   ]
  },
  {
   "cell_type": "markdown",
   "id": "88dea1d4",
   "metadata": {
    "id": "88dea1d4"
   },
   "source": [
    "# Scikit-learn"
   ]
  },
  {
   "cell_type": "markdown",
   "id": "00541118",
   "metadata": {
    "id": "00541118"
   },
   "source": [
    "So far, we've understood the mathematical side of Regression. Now, let's look at a very useful library of python which can do all these mathematical steps in usually 3 line.\n",
    "\n",
    "**Plese Note**:\n",
    "\n",
    "Explaination of the python code will be there in later sessions."
   ]
  },
  {
   "cell_type": "code",
   "execution_count": 18,
   "id": "26dd98a0",
   "metadata": {
    "colab": {
     "base_uri": "https://localhost:8080/",
     "height": 143
    },
    "executionInfo": {
     "elapsed": 32,
     "status": "ok",
     "timestamp": 1673476371147,
     "user": {
      "displayName": "ASHISH62",
      "userId": "08401911432788129274"
     },
     "user_tz": -330
    },
    "id": "26dd98a0",
    "outputId": "5dd775a8-a2ed-41a4-c697-5aea7169ba66"
   },
   "outputs": [
    {
     "data": {
      "text/html": [
       "<div>\n",
       "<style scoped>\n",
       "    .dataframe tbody tr th:only-of-type {\n",
       "        vertical-align: middle;\n",
       "    }\n",
       "\n",
       "    .dataframe tbody tr th {\n",
       "        vertical-align: top;\n",
       "    }\n",
       "\n",
       "    .dataframe thead th {\n",
       "        text-align: right;\n",
       "    }\n",
       "</style>\n",
       "<table border=\"1\" class=\"dataframe\">\n",
       "  <thead>\n",
       "    <tr style=\"text-align: right;\">\n",
       "      <th></th>\n",
       "      <th>work_experience</th>\n",
       "      <th>salary</th>\n",
       "    </tr>\n",
       "  </thead>\n",
       "  <tbody>\n",
       "    <tr>\n",
       "      <th>employee0</th>\n",
       "      <td>1</td>\n",
       "      <td>1000</td>\n",
       "    </tr>\n",
       "    <tr>\n",
       "      <th>employee1</th>\n",
       "      <td>2</td>\n",
       "      <td>2000</td>\n",
       "    </tr>\n",
       "    <tr>\n",
       "      <th>employee2</th>\n",
       "      <td>3</td>\n",
       "      <td>3000</td>\n",
       "    </tr>\n",
       "  </tbody>\n",
       "</table>\n",
       "</div>"
      ],
      "text/plain": [
       "           work_experience  salary\n",
       "employee0                1    1000\n",
       "employee1                2    2000\n",
       "employee2                3    3000"
      ]
     },
     "execution_count": 18,
     "metadata": {},
     "output_type": "execute_result"
    }
   ],
   "source": [
    "df1"
   ]
  },
  {
   "cell_type": "code",
   "execution_count": 19,
   "id": "2663a689",
   "metadata": {
    "colab": {
     "base_uri": "https://localhost:8080/"
    },
    "executionInfo": {
     "elapsed": 31,
     "status": "ok",
     "timestamp": 1673476371147,
     "user": {
      "displayName": "ASHISH62",
      "userId": "08401911432788129274"
     },
     "user_tz": -330
    },
    "id": "2663a689",
    "outputId": "d172189d-39fb-41a2-d91f-1da980952ada"
   },
   "outputs": [
    {
     "data": {
      "text/plain": [
       "array([[1],\n",
       "       [2],\n",
       "       [3]], dtype=int64)"
      ]
     },
     "execution_count": 19,
     "metadata": {},
     "output_type": "execute_result"
    }
   ],
   "source": [
    "X = df1[\"work_experience\"].values\n",
    "X = X.reshape(-1,1)\n",
    "X"
   ]
  },
  {
   "cell_type": "code",
   "execution_count": 20,
   "id": "787ef615",
   "metadata": {
    "colab": {
     "base_uri": "https://localhost:8080/"
    },
    "executionInfo": {
     "elapsed": 29,
     "status": "ok",
     "timestamp": 1673476371147,
     "user": {
      "displayName": "ASHISH62",
      "userId": "08401911432788129274"
     },
     "user_tz": -330
    },
    "id": "787ef615",
    "outputId": "7547681d-a9ca-4f2f-f91b-1665b629b9b8"
   },
   "outputs": [
    {
     "data": {
      "text/plain": [
       "array([1000, 2000, 3000])"
      ]
     },
     "execution_count": 20,
     "metadata": {},
     "output_type": "execute_result"
    }
   ],
   "source": [
    "y = df1[\"salary\"].values\n",
    "y"
   ]
  },
  {
   "cell_type": "markdown",
   "id": "1436eacd",
   "metadata": {
    "id": "1436eacd"
   },
   "source": [
    "**We will pass x value of 4 (4 years of work experience) and generate prediction of salary**"
   ]
  },
  {
   "cell_type": "code",
   "execution_count": 21,
   "id": "7cf49933",
   "metadata": {
    "colab": {
     "base_uri": "https://localhost:8080/"
    },
    "executionInfo": {
     "elapsed": 27,
     "status": "ok",
     "timestamp": 1673476371147,
     "user": {
      "displayName": "ASHISH62",
      "userId": "08401911432788129274"
     },
     "user_tz": -330
    },
    "id": "7cf49933",
    "outputId": "032b5bcc-726d-4ed2-e450-4b39e9ad82cb",
    "scrolled": true
   },
   "outputs": [
    {
     "data": {
      "text/plain": [
       "array([4000.])"
      ]
     },
     "execution_count": 21,
     "metadata": {},
     "output_type": "execute_result"
    }
   ],
   "source": [
    "from sklearn.linear_model import LinearRegression\n",
    "\n",
    "reg = LinearRegression()\n",
    "reg.fit(X, y)\n",
    "reg.predict([[4]])"
   ]
  },
  {
   "cell_type": "markdown",
   "id": "036908e9",
   "metadata": {
    "id": "036908e9"
   },
   "source": [
    "**Salary prediction here was 4000**"
   ]
  }
 ],
 "metadata": {
  "colab": {
   "provenance": []
  },
  "kernelspec": {
   "display_name": "Python 3 (ipykernel)",
   "language": "python",
   "name": "python3"
  },
  "language_info": {
   "codemirror_mode": {
    "name": "ipython",
    "version": 3
   },
   "file_extension": ".py",
   "mimetype": "text/x-python",
   "name": "python",
   "nbconvert_exporter": "python",
   "pygments_lexer": "ipython3",
   "version": "3.10.9"
  }
 },
 "nbformat": 4,
 "nbformat_minor": 5
}

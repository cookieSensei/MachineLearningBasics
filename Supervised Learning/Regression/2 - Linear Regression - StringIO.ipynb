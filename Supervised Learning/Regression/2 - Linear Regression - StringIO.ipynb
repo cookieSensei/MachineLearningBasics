{
 "cells": [
  {
   "cell_type": "markdown",
   "id": "40f29883",
   "metadata": {},
   "source": [
    "# Welcome to Machine Learning\n",
    "\n",
    "Hello my beautiful, curious audience. I welcome you to the programming section of machine learning. We'll learn here, the basics of what machine learning is, how to use and program AI systems. \n",
    "\n",
    "Its by no means a comprehensive series, but it'll hopefully give you the right start.\n",
    "\n"
   ]
  },
  {
   "cell_type": "markdown",
   "id": "c1d63dd2",
   "metadata": {},
   "source": [
    "# Scikit-Learn\n",
    "\n",
    "You'll hear me say this multiple times that \"I love scikit-learn\".\n",
    "\n",
    "I love scikit-learn. People in the industry love it. The ease of use that comes with scikit-learn, the amount of problems statements that could be solved using this package, its consistent API, its love at first sight. The things that used to be a headache are now couple lines of code away.\n",
    "\n",
    "There are whole bunch of supervised and unsupervised problem statements and scikit-learn makes its API consistent within all of these approaches.\n",
    "\n",
    "We have hyped deep neural networks so much but if we look at AI from afar, we'll realize that most of the complex problem statements could be solved using simpler ways. One of the simpler way is scikit-learn.\n",
    "\n",
    "(Ignore if you haven't heard about keras or tensorflow before) \n",
    "Even when using keras api in python, scikit-learn provides consistent class wrappers for tensorflow."
   ]
  },
  {
   "cell_type": "markdown",
   "id": "d615e709",
   "metadata": {},
   "source": [
    "### Problem Statement for supervised learning"
   ]
  },
  {
   "cell_type": "markdown",
   "id": "0dc175bd",
   "metadata": {},
   "source": [
    "When we have some data which requires for us to predict numerical or categorical values, that's in simple words supervised learning. We'll talk more as we get comfortable with scikit-learn. For now, let's understand by an example."
   ]
  },
  {
   "cell_type": "markdown",
   "id": "f092d100",
   "metadata": {},
   "source": [
    "Our objective is to **predict the consumption of ice-cream based on the temperature of a city**"
   ]
  },
  {
   "cell_type": "markdown",
   "id": "35cdd82f",
   "metadata": {},
   "source": [
    "**Please Note**: At this point, I expect my audience to have gone through the *chapter 1 - Linear Regression simplified with Mathematics* to have basic (sweet sweet basic) intuition of line equation and how a machine learning model uses an equation and hyper-parameters in the backend to evaluate erros and make its predictions. "
   ]
  },
  {
   "cell_type": "markdown",
   "id": "49bcbe39",
   "metadata": {},
   "source": [
    "### Learn the intuition rather than the syntax\n",
    "\n",
    "Google: \"python 3 import linear regression scikit-learn\" and you'll find the import statement for linear regression and its usage on scikit-learn's official documentation or on other websites. So, no need to remember these statements. No one in the data or AI industry will ever ask you these functions in any interview. Interviewers are only interested in your problem solving abilities, if you're able to solve a particular AI problem or not. \n",
    "\n",
    "Reason being: **Python recieves timely updates**, check the current version below"
   ]
  },
  {
   "cell_type": "code",
   "execution_count": 1,
   "id": "67951726",
   "metadata": {},
   "outputs": [
    {
     "name": "stdout",
     "output_type": "stream",
     "text": [
      "Python 3.10.9\n"
     ]
    }
   ],
   "source": [
    "!python --version"
   ]
  },
  {
   "cell_type": "markdown",
   "id": "e8cd7777",
   "metadata": {},
   "source": [
    "I'm currently running this notebook on my portable local machine (old laptop). So, the python version I'm using might be different than yours. Google colab might have a different python version. \n",
    "\n",
    "So, with different python versions, comes incompatibility with various packages because the packages that we import inside python, they too get updates.\n",
    "\n",
    "One pandas function might work on older versions of python while it might not be supported for updated python version. So, nobody is expected to cram the function names.\n",
    "\n",
    "**Optional Note** for further reading:\n",
    "\n",
    "At the time of writing this script, python 3.11.1 (latest version) is out but I'm still using python 3.10.9 and I have no plans to upgrade my python version for next 10 or so months because of some projects which I started with python 3.10.9. I can't midway upgrage my python version and expect every imported functionalities to work perfectly. The projects in discussion require hardware acceleration on neural nets and I'm using external executables to enable the fuctionalities of CUDA acceleration and in windows 10 os, those are supported only for python 3.10. \n",
    "\n",
    "It's not like I'm limited to python 3.10.9. We as regular programmers, we install multiple versions of python according to the need of the projects. \n",
    "\n",
    "Point is, a time comes when it becomes hard to track all the import statements for different python versions. Then complexity increases exponentially as we start to use multiple programming language for our workflow. I often switch between R, c++, c# and Python depending on the task. \n",
    "\n",
    "Google colab users don't need to worry about multiple python versions as they keep their eco-system very stable and updated.\n",
    "\n",
    "Any how, this is why we are not expected to cram function names."
   ]
  },
  {
   "cell_type": "markdown",
   "id": "a5a53321",
   "metadata": {},
   "source": [
    "### Numpy and pandas\n",
    "\n",
    "Just blindly import these two packages. They are used in almost every data related python scripts.\n"
   ]
  },
  {
   "cell_type": "code",
   "execution_count": 2,
   "id": "5a131e96",
   "metadata": {},
   "outputs": [],
   "source": [
    "import numpy as np\n",
    "import pandas as pd"
   ]
  },
  {
   "cell_type": "markdown",
   "id": "9251dbb3",
   "metadata": {},
   "source": [
    "### Import the dataset"
   ]
  },
  {
   "cell_type": "code",
   "execution_count": 3,
   "id": "4f36be6c",
   "metadata": {},
   "outputs": [],
   "source": [
    "data = \"\"\",cons,income,price,temp\n",
    "1,0.386,78,0.27,41\n",
    "2,0.374,79,0.282,56\n",
    "3,0.393,81,0.277,63\n",
    "4,0.425,80,0.28,68\n",
    "5,0.406,76,0.272,69\n",
    "6,0.344,78,0.262,65\n",
    "7,0.327,82,0.275,61\n",
    "8,0.288,79,0.267,47\n",
    "9,0.269,76,0.265,32\n",
    "10,0.256,79,0.277,24\n",
    "11,0.286,82,0.282,28\n",
    "12,0.298,85,0.27,26\n",
    "13,0.329,86,0.272,32\n",
    "14,0.318,83,0.287,40\n",
    "15,0.381,84,0.277,55\n",
    "16,0.381,82,0.287,63\n",
    "17,0.47,80,0.28,72\n",
    "18,0.443,78,0.277,72\n",
    "19,0.386,84,0.277,67\n",
    "20,0.342,86,0.277,60\n",
    "21,0.319,85,0.292,44\n",
    "22,0.307,87,0.287,40\n",
    "23,0.284,94,0.277,32\n",
    "24,0.326,92,0.285,27\n",
    "25,0.309,95,0.282,28\n",
    "26,0.359,96,0.265,33\n",
    "27,0.376,94,0.265,41\n",
    "28,0.416,96,0.265,52\n",
    "29,0.437,91,0.268,64\n",
    "30,0.548,90,0.26,71\"\"\""
   ]
  },
  {
   "cell_type": "markdown",
   "id": "add049e4",
   "metadata": {},
   "source": [
    "We have a multi line string which contains comma separated values. To import this multi line string in pandas, we'll use built-in python module io which contains StringIO function.\n"
   ]
  },
  {
   "cell_type": "code",
   "execution_count": 4,
   "id": "f1c38031",
   "metadata": {},
   "outputs": [],
   "source": [
    "from io import StringIO"
   ]
  },
  {
   "cell_type": "code",
   "execution_count": 5,
   "id": "535182fc",
   "metadata": {},
   "outputs": [
    {
     "data": {
      "text/html": [
       "<div>\n",
       "<style scoped>\n",
       "    .dataframe tbody tr th:only-of-type {\n",
       "        vertical-align: middle;\n",
       "    }\n",
       "\n",
       "    .dataframe tbody tr th {\n",
       "        vertical-align: top;\n",
       "    }\n",
       "\n",
       "    .dataframe thead th {\n",
       "        text-align: right;\n",
       "    }\n",
       "</style>\n",
       "<table border=\"1\" class=\"dataframe\">\n",
       "  <thead>\n",
       "    <tr style=\"text-align: right;\">\n",
       "      <th></th>\n",
       "      <th>Unnamed: 0</th>\n",
       "      <th>cons</th>\n",
       "      <th>income</th>\n",
       "      <th>price</th>\n",
       "      <th>temp</th>\n",
       "    </tr>\n",
       "  </thead>\n",
       "  <tbody>\n",
       "    <tr>\n",
       "      <th>0</th>\n",
       "      <td>1</td>\n",
       "      <td>0.386</td>\n",
       "      <td>78</td>\n",
       "      <td>0.270</td>\n",
       "      <td>41</td>\n",
       "    </tr>\n",
       "    <tr>\n",
       "      <th>1</th>\n",
       "      <td>2</td>\n",
       "      <td>0.374</td>\n",
       "      <td>79</td>\n",
       "      <td>0.282</td>\n",
       "      <td>56</td>\n",
       "    </tr>\n",
       "    <tr>\n",
       "      <th>2</th>\n",
       "      <td>3</td>\n",
       "      <td>0.393</td>\n",
       "      <td>81</td>\n",
       "      <td>0.277</td>\n",
       "      <td>63</td>\n",
       "    </tr>\n",
       "    <tr>\n",
       "      <th>3</th>\n",
       "      <td>4</td>\n",
       "      <td>0.425</td>\n",
       "      <td>80</td>\n",
       "      <td>0.280</td>\n",
       "      <td>68</td>\n",
       "    </tr>\n",
       "    <tr>\n",
       "      <th>4</th>\n",
       "      <td>5</td>\n",
       "      <td>0.406</td>\n",
       "      <td>76</td>\n",
       "      <td>0.272</td>\n",
       "      <td>69</td>\n",
       "    </tr>\n",
       "    <tr>\n",
       "      <th>5</th>\n",
       "      <td>6</td>\n",
       "      <td>0.344</td>\n",
       "      <td>78</td>\n",
       "      <td>0.262</td>\n",
       "      <td>65</td>\n",
       "    </tr>\n",
       "  </tbody>\n",
       "</table>\n",
       "</div>"
      ],
      "text/plain": [
       "   Unnamed: 0   cons  income  price  temp\n",
       "0           1  0.386      78  0.270    41\n",
       "1           2  0.374      79  0.282    56\n",
       "2           3  0.393      81  0.277    63\n",
       "3           4  0.425      80  0.280    68\n",
       "4           5  0.406      76  0.272    69\n",
       "5           6  0.344      78  0.262    65"
      ]
     },
     "execution_count": 5,
     "metadata": {},
     "output_type": "execute_result"
    }
   ],
   "source": [
    "\n",
    "icecream = pd.read_csv(StringIO(data), sep=\",\", header=0)\n",
    "icecream.head(6)"
   ]
  },
  {
   "cell_type": "code",
   "execution_count": 6,
   "id": "e9bede38",
   "metadata": {},
   "outputs": [
    {
     "data": {
      "text/plain": [
       "Index(['Unnamed: 0', 'cons', 'income', 'price', 'temp'], dtype='object')"
      ]
     },
     "execution_count": 6,
     "metadata": {},
     "output_type": "execute_result"
    }
   ],
   "source": [
    "icecream.columns"
   ]
  },
  {
   "cell_type": "markdown",
   "id": "5f02fa22",
   "metadata": {},
   "source": [
    "\"unnamed:0\" column looks irrelevant and useless as at least from afar it looks like it contains only row numbers of excel sheet that the data belonged to. So, let's drop it.\n",
    "\n",
    "cons is the column name for consumption of icecream\n",
    "\n",
    "temp is the temperature of a city\n",
    "\n",
    "Any how, our problem statement is to predict consumption of icecream based on temperature in a city. So, columns other than temp and cons are irrelevant for our study"
   ]
  },
  {
   "cell_type": "code",
   "execution_count": 7,
   "id": "b670c9ed",
   "metadata": {},
   "outputs": [],
   "source": [
    "icecream.drop([\"Unnamed: 0\", \"income\", \"price\"], axis=1, inplace=True)"
   ]
  },
  {
   "cell_type": "code",
   "execution_count": 8,
   "id": "28060ae4",
   "metadata": {},
   "outputs": [
    {
     "data": {
      "text/html": [
       "<div>\n",
       "<style scoped>\n",
       "    .dataframe tbody tr th:only-of-type {\n",
       "        vertical-align: middle;\n",
       "    }\n",
       "\n",
       "    .dataframe tbody tr th {\n",
       "        vertical-align: top;\n",
       "    }\n",
       "\n",
       "    .dataframe thead th {\n",
       "        text-align: right;\n",
       "    }\n",
       "</style>\n",
       "<table border=\"1\" class=\"dataframe\">\n",
       "  <thead>\n",
       "    <tr style=\"text-align: right;\">\n",
       "      <th></th>\n",
       "      <th>cons</th>\n",
       "      <th>temp</th>\n",
       "    </tr>\n",
       "  </thead>\n",
       "  <tbody>\n",
       "    <tr>\n",
       "      <th>0</th>\n",
       "      <td>0.386</td>\n",
       "      <td>41</td>\n",
       "    </tr>\n",
       "    <tr>\n",
       "      <th>1</th>\n",
       "      <td>0.374</td>\n",
       "      <td>56</td>\n",
       "    </tr>\n",
       "    <tr>\n",
       "      <th>2</th>\n",
       "      <td>0.393</td>\n",
       "      <td>63</td>\n",
       "    </tr>\n",
       "    <tr>\n",
       "      <th>3</th>\n",
       "      <td>0.425</td>\n",
       "      <td>68</td>\n",
       "    </tr>\n",
       "    <tr>\n",
       "      <th>4</th>\n",
       "      <td>0.406</td>\n",
       "      <td>69</td>\n",
       "    </tr>\n",
       "  </tbody>\n",
       "</table>\n",
       "</div>"
      ],
      "text/plain": [
       "    cons  temp\n",
       "0  0.386    41\n",
       "1  0.374    56\n",
       "2  0.393    63\n",
       "3  0.425    68\n",
       "4  0.406    69"
      ]
     },
     "execution_count": 8,
     "metadata": {},
     "output_type": "execute_result"
    }
   ],
   "source": [
    "icecream.head()"
   ]
  },
  {
   "cell_type": "markdown",
   "id": "f5dbe4f8",
   "metadata": {},
   "source": [
    "Now, we have past data of temperature vs consumption. It kind of obvious that with high temperature climate, more people will get inclined to buy ice creams.\n",
    "\n",
    "Our problem statement is to predict that relation for which we will require a linear regression ML model."
   ]
  },
  {
   "cell_type": "markdown",
   "id": "7d9591db",
   "metadata": {},
   "source": [
    "# General Checks\n",
    "\n",
    "Now lets say we train a machine learning model using some data and now the accuracy with which the model makes its predictions is say 100%.\n",
    "\n",
    "At this point you might be inclined to think that \"we've done it, it's 100% accurate. Let's launch this system for the world\"\n",
    "\n",
    "Now new people use this system and of course they will punch in some data that the machine learning model has never seen. Now they noticed that the ML model we were so pompous about does not perform half as good as advertised.\n",
    "\n",
    "\"What is going on? This was supposed to work accurately.\""
   ]
  },
  {
   "cell_type": "markdown",
   "id": "860330ee",
   "metadata": {},
   "source": [
    "**Model Evaluation**\n",
    "\n",
    "The problem is we evaluated the model on the same data that we trained the model on.\n",
    "\n",
    "So, of course once a ML model has seen the data, its going to predict outcomes from the same training data accurately.\n",
    "\n",
    "How do we rectify the problem?\n",
    "\n",
    "How do we make sure if the system is ready to be launched.\n",
    "\n",
    "Welcome to the disaster of machine learning. Model Evaluation. If AI was really as simple as writing a bunch of code. Just about anybody would have become AI engineer. Its not tough either, its just that people generally forget the basic general checks to do before training a model."
   ]
  },
  {
   "cell_type": "markdown",
   "id": "7bd122f6",
   "metadata": {},
   "source": [
    "**Solution**\n",
    "\n",
    "So, we split our dataset into two separate sets.\n",
    "\n",
    "**Training dataset** and **Test Dataset**\n",
    "\n",
    "To be precise, we split the data into 3 sets, training, cross-validation and test sets. But for the purpose of learning, we'll choose to split our dataset into just 2 datasets. "
   ]
  },
  {
   "cell_type": "markdown",
   "id": "0a2710ca",
   "metadata": {},
   "source": [
    "As you might have guessed, we train our model using Training Dataset and then evaluate accuracy (or other error metrics) using the test dataset.\n",
    "\n",
    "This approach has a lot of benefits which we will study later.\n",
    "\n",
    "First, let's do our linear regression activity to get comfortable with the whole process."
   ]
  },
  {
   "cell_type": "code",
   "execution_count": 9,
   "id": "4839e58d",
   "metadata": {},
   "outputs": [
    {
     "data": {
      "text/html": [
       "<div>\n",
       "<style scoped>\n",
       "    .dataframe tbody tr th:only-of-type {\n",
       "        vertical-align: middle;\n",
       "    }\n",
       "\n",
       "    .dataframe tbody tr th {\n",
       "        vertical-align: top;\n",
       "    }\n",
       "\n",
       "    .dataframe thead th {\n",
       "        text-align: right;\n",
       "    }\n",
       "</style>\n",
       "<table border=\"1\" class=\"dataframe\">\n",
       "  <thead>\n",
       "    <tr style=\"text-align: right;\">\n",
       "      <th></th>\n",
       "      <th>cons</th>\n",
       "      <th>temp</th>\n",
       "    </tr>\n",
       "  </thead>\n",
       "  <tbody>\n",
       "    <tr>\n",
       "      <th>0</th>\n",
       "      <td>0.386</td>\n",
       "      <td>41</td>\n",
       "    </tr>\n",
       "    <tr>\n",
       "      <th>1</th>\n",
       "      <td>0.374</td>\n",
       "      <td>56</td>\n",
       "    </tr>\n",
       "    <tr>\n",
       "      <th>2</th>\n",
       "      <td>0.393</td>\n",
       "      <td>63</td>\n",
       "    </tr>\n",
       "    <tr>\n",
       "      <th>3</th>\n",
       "      <td>0.425</td>\n",
       "      <td>68</td>\n",
       "    </tr>\n",
       "    <tr>\n",
       "      <th>4</th>\n",
       "      <td>0.406</td>\n",
       "      <td>69</td>\n",
       "    </tr>\n",
       "    <tr>\n",
       "      <th>5</th>\n",
       "      <td>0.344</td>\n",
       "      <td>65</td>\n",
       "    </tr>\n",
       "  </tbody>\n",
       "</table>\n",
       "</div>"
      ],
      "text/plain": [
       "    cons  temp\n",
       "0  0.386    41\n",
       "1  0.374    56\n",
       "2  0.393    63\n",
       "3  0.425    68\n",
       "4  0.406    69\n",
       "5  0.344    65"
      ]
     },
     "execution_count": 9,
     "metadata": {},
     "output_type": "execute_result"
    }
   ],
   "source": [
    "icecream.head(6)"
   ]
  },
  {
   "cell_type": "markdown",
   "id": "6675d038",
   "metadata": {},
   "source": [
    "In our problem statement, we will use temperature to predict consumption.\n",
    "\n",
    "So, temperature here is an independent variable using which we predict consumption, a dependent variable.\n",
    "\n",
    "Generally, we have different notations for independent and dependent variables.\n",
    "\n",
    "**Independent variable**: X, attributes, features, covariates\n",
    "\n",
    "**Dependent variable**: Y, target, output\n",
    "\n",
    "**Rows of dataframe**: Instances, Training examples "
   ]
  },
  {
   "cell_type": "markdown",
   "id": "943238a8",
   "metadata": {},
   "source": [
    "# Split independent and dependent variables in original dataframe and reshape"
   ]
  },
  {
   "cell_type": "code",
   "execution_count": 10,
   "id": "677cd6e1",
   "metadata": {},
   "outputs": [
    {
     "data": {
      "text/plain": [
       "array([41, 56, 63, 68, 69, 65, 61, 47, 32, 24, 28, 26, 32, 40, 55, 63, 72,\n",
       "       72, 67, 60, 44, 40, 32, 27, 28, 33, 41, 52, 64, 71], dtype=int64)"
      ]
     },
     "execution_count": 10,
     "metadata": {},
     "output_type": "execute_result"
    }
   ],
   "source": [
    "X = np.array(icecream[\"temp\"])\n",
    "X"
   ]
  },
  {
   "cell_type": "code",
   "execution_count": 11,
   "id": "ad868028",
   "metadata": {},
   "outputs": [
    {
     "data": {
      "text/plain": [
       "(30,)"
      ]
     },
     "execution_count": 11,
     "metadata": {},
     "output_type": "execute_result"
    }
   ],
   "source": [
    "X.shape"
   ]
  },
  {
   "cell_type": "markdown",
   "id": "85a58b4a",
   "metadata": {},
   "source": [
    "At this point, we have inside X the independent variable, but for python its shape is ambiguous. So, we need to tell python that our dataset array X had a definite shape of rows and columns, that is 30 rows, 1 column. 30 instances / examples as rows and 1 feature as independent variable."
   ]
  },
  {
   "cell_type": "code",
   "execution_count": 12,
   "id": "24681ed0",
   "metadata": {},
   "outputs": [
    {
     "data": {
      "text/plain": [
       "array([[41],\n",
       "       [56],\n",
       "       [63],\n",
       "       [68],\n",
       "       [69],\n",
       "       [65],\n",
       "       [61],\n",
       "       [47],\n",
       "       [32],\n",
       "       [24],\n",
       "       [28],\n",
       "       [26],\n",
       "       [32],\n",
       "       [40],\n",
       "       [55],\n",
       "       [63],\n",
       "       [72],\n",
       "       [72],\n",
       "       [67],\n",
       "       [60],\n",
       "       [44],\n",
       "       [40],\n",
       "       [32],\n",
       "       [27],\n",
       "       [28],\n",
       "       [33],\n",
       "       [41],\n",
       "       [52],\n",
       "       [64],\n",
       "       [71]], dtype=int64)"
      ]
     },
     "execution_count": 12,
     "metadata": {},
     "output_type": "execute_result"
    }
   ],
   "source": [
    "X.reshape(30, 1)"
   ]
  },
  {
   "cell_type": "markdown",
   "id": "5ff62ef3",
   "metadata": {},
   "source": [
    "In the previous approach we'd have to manually punch in number of rows, but there's a flexible way to do it"
   ]
  },
  {
   "cell_type": "code",
   "execution_count": 13,
   "id": "f253f4c4",
   "metadata": {},
   "outputs": [
    {
     "data": {
      "text/plain": [
       "array([[41],\n",
       "       [56],\n",
       "       [63],\n",
       "       [68],\n",
       "       [69],\n",
       "       [65],\n",
       "       [61],\n",
       "       [47],\n",
       "       [32],\n",
       "       [24],\n",
       "       [28],\n",
       "       [26],\n",
       "       [32],\n",
       "       [40],\n",
       "       [55],\n",
       "       [63],\n",
       "       [72],\n",
       "       [72],\n",
       "       [67],\n",
       "       [60],\n",
       "       [44],\n",
       "       [40],\n",
       "       [32],\n",
       "       [27],\n",
       "       [28],\n",
       "       [33],\n",
       "       [41],\n",
       "       [52],\n",
       "       [64],\n",
       "       [71]], dtype=int64)"
      ]
     },
     "execution_count": 13,
     "metadata": {},
     "output_type": "execute_result"
    }
   ],
   "source": [
    "X.reshape(-1, 1)"
   ]
  },
  {
   "cell_type": "markdown",
   "id": "37852db3",
   "metadata": {},
   "source": [
    "In reshape, -1 as row count means adjust the rows count according to the column count which we specified as 1 column."
   ]
  },
  {
   "cell_type": "markdown",
   "id": "bc93f23a",
   "metadata": {},
   "source": [
    "#### Reshape\n",
    "\n",
    "Lets practice this reshape before moving forward. We have a 8 element array."
   ]
  },
  {
   "cell_type": "code",
   "execution_count": 14,
   "id": "ee49e3e9",
   "metadata": {},
   "outputs": [
    {
     "data": {
      "text/plain": [
       "array([1, 2, 3, 4, 5, 6, 7, 8])"
      ]
     },
     "execution_count": 14,
     "metadata": {},
     "output_type": "execute_result"
    }
   ],
   "source": [
    "example_reshape = np.array([1,2,3,4,5,6,7,8])\n",
    "example_reshape"
   ]
  },
  {
   "cell_type": "code",
   "execution_count": 15,
   "id": "614932e2",
   "metadata": {},
   "outputs": [
    {
     "data": {
      "text/plain": [
       "array([[1, 2],\n",
       "       [3, 4],\n",
       "       [5, 6],\n",
       "       [7, 8]])"
      ]
     },
     "execution_count": 15,
     "metadata": {},
     "output_type": "execute_result"
    }
   ],
   "source": [
    "example_reshape.reshape(4,2)"
   ]
  },
  {
   "cell_type": "code",
   "execution_count": 16,
   "id": "b262dd5d",
   "metadata": {},
   "outputs": [
    {
     "data": {
      "text/plain": [
       "array([[1, 2, 3, 4],\n",
       "       [5, 6, 7, 8]])"
      ]
     },
     "execution_count": 16,
     "metadata": {},
     "output_type": "execute_result"
    }
   ],
   "source": [
    "example_reshape.reshape(2,4)"
   ]
  },
  {
   "cell_type": "code",
   "execution_count": 17,
   "id": "feffbf09",
   "metadata": {},
   "outputs": [
    {
     "data": {
      "text/plain": [
       "array([[1],\n",
       "       [2],\n",
       "       [3],\n",
       "       [4],\n",
       "       [5],\n",
       "       [6],\n",
       "       [7],\n",
       "       [8]])"
      ]
     },
     "execution_count": 17,
     "metadata": {},
     "output_type": "execute_result"
    }
   ],
   "source": [
    "example_reshape.reshape(8,1)"
   ]
  },
  {
   "cell_type": "code",
   "execution_count": 18,
   "id": "340394fe",
   "metadata": {},
   "outputs": [
    {
     "data": {
      "text/plain": [
       "array([[1, 2, 3, 4, 5, 6, 7, 8]])"
      ]
     },
     "execution_count": 18,
     "metadata": {},
     "output_type": "execute_result"
    }
   ],
   "source": [
    "example_reshape.reshape(1,8)"
   ]
  },
  {
   "cell_type": "code",
   "execution_count": 19,
   "id": "3aaba76e",
   "metadata": {},
   "outputs": [
    {
     "data": {
      "text/plain": [
       "array([[[1, 2],\n",
       "        [3, 4]],\n",
       "\n",
       "       [[5, 6],\n",
       "        [7, 8]]])"
      ]
     },
     "execution_count": 19,
     "metadata": {},
     "output_type": "execute_result"
    }
   ],
   "source": [
    "example_reshape.reshape(2,2,2)"
   ]
  },
  {
   "cell_type": "markdown",
   "id": "6bab3013",
   "metadata": {},
   "source": [
    "**Dimension adjust with -1**"
   ]
  },
  {
   "cell_type": "code",
   "execution_count": 20,
   "id": "6976b916",
   "metadata": {},
   "outputs": [
    {
     "data": {
      "text/plain": [
       "array([[1, 2],\n",
       "       [3, 4],\n",
       "       [5, 6],\n",
       "       [7, 8]])"
      ]
     },
     "execution_count": 20,
     "metadata": {},
     "output_type": "execute_result"
    }
   ],
   "source": [
    "example_reshape.reshape(-1,2)"
   ]
  },
  {
   "cell_type": "code",
   "execution_count": 21,
   "id": "5cf911e0",
   "metadata": {},
   "outputs": [
    {
     "data": {
      "text/plain": [
       "array([[1, 2],\n",
       "       [3, 4],\n",
       "       [5, 6],\n",
       "       [7, 8]])"
      ]
     },
     "execution_count": 21,
     "metadata": {},
     "output_type": "execute_result"
    }
   ],
   "source": [
    "example_reshape.reshape(4,2)"
   ]
  },
  {
   "cell_type": "code",
   "execution_count": 22,
   "id": "1e4d932e",
   "metadata": {},
   "outputs": [
    {
     "data": {
      "text/plain": [
       "array([[1, 2, 3, 4],\n",
       "       [5, 6, 7, 8]])"
      ]
     },
     "execution_count": 22,
     "metadata": {},
     "output_type": "execute_result"
    }
   ],
   "source": [
    "example_reshape.reshape(2,-1)"
   ]
  },
  {
   "cell_type": "code",
   "execution_count": 23,
   "id": "cb3479ac",
   "metadata": {},
   "outputs": [
    {
     "data": {
      "text/plain": [
       "array([[1, 2, 3, 4],\n",
       "       [5, 6, 7, 8]])"
      ]
     },
     "execution_count": 23,
     "metadata": {},
     "output_type": "execute_result"
    }
   ],
   "source": [
    "example_reshape.reshape(2,4)"
   ]
  },
  {
   "cell_type": "markdown",
   "id": "dbe7d21b",
   "metadata": {},
   "source": [
    "### Reshape variables X and Y"
   ]
  },
  {
   "cell_type": "code",
   "execution_count": 24,
   "id": "4bf4aa93",
   "metadata": {},
   "outputs": [
    {
     "data": {
      "text/plain": [
       "array([[41],\n",
       "       [56],\n",
       "       [63],\n",
       "       [68],\n",
       "       [69],\n",
       "       [65],\n",
       "       [61],\n",
       "       [47],\n",
       "       [32],\n",
       "       [24],\n",
       "       [28],\n",
       "       [26],\n",
       "       [32],\n",
       "       [40],\n",
       "       [55],\n",
       "       [63],\n",
       "       [72],\n",
       "       [72],\n",
       "       [67],\n",
       "       [60],\n",
       "       [44],\n",
       "       [40],\n",
       "       [32],\n",
       "       [27],\n",
       "       [28],\n",
       "       [33],\n",
       "       [41],\n",
       "       [52],\n",
       "       [64],\n",
       "       [71]], dtype=int64)"
      ]
     },
     "execution_count": 24,
     "metadata": {},
     "output_type": "execute_result"
    }
   ],
   "source": [
    "X = X.reshape(-1, 1)\n",
    "X"
   ]
  },
  {
   "cell_type": "code",
   "execution_count": 25,
   "id": "1ba7238e",
   "metadata": {},
   "outputs": [
    {
     "data": {
      "text/plain": [
       "array([[0.386],\n",
       "       [0.374],\n",
       "       [0.393],\n",
       "       [0.425],\n",
       "       [0.406],\n",
       "       [0.344],\n",
       "       [0.327],\n",
       "       [0.288],\n",
       "       [0.269],\n",
       "       [0.256],\n",
       "       [0.286],\n",
       "       [0.298],\n",
       "       [0.329],\n",
       "       [0.318],\n",
       "       [0.381],\n",
       "       [0.381],\n",
       "       [0.47 ],\n",
       "       [0.443],\n",
       "       [0.386],\n",
       "       [0.342],\n",
       "       [0.319],\n",
       "       [0.307],\n",
       "       [0.284],\n",
       "       [0.326],\n",
       "       [0.309],\n",
       "       [0.359],\n",
       "       [0.376],\n",
       "       [0.416],\n",
       "       [0.437],\n",
       "       [0.548]])"
      ]
     },
     "execution_count": 25,
     "metadata": {},
     "output_type": "execute_result"
    }
   ],
   "source": [
    "Y = np.array(icecream[\"cons\"])\n",
    "Y = Y.reshape(-1, 1)\n",
    "Y"
   ]
  },
  {
   "cell_type": "markdown",
   "id": "568e821e",
   "metadata": {},
   "source": [
    "# Split into training and test set\n",
    "\n",
    "Again we don't need to remember the import statements. \n",
    "\n",
    "Google: \"split data into training and test dataset python 3 scikit-learn\", and you'd find different clever ways to do it.\n",
    "\n",
    "In real world datasets, data is messy and we have to split our dataset based on some conditions but to keep it simple and straight, we'll use train_test_split method to split our dataset into train and test set.\n"
   ]
  },
  {
   "cell_type": "code",
   "execution_count": 26,
   "id": "82ae5c92",
   "metadata": {},
   "outputs": [],
   "source": [
    "from sklearn.model_selection import train_test_split"
   ]
  },
  {
   "cell_type": "code",
   "execution_count": 27,
   "id": "dc81c8a4",
   "metadata": {},
   "outputs": [],
   "source": [
    "trainX, testX, trainY, testY = train_test_split(\n",
    "    X, Y, test_size=0.2\n",
    ")"
   ]
  },
  {
   "cell_type": "markdown",
   "id": "a6905785",
   "metadata": {},
   "source": [
    "**Take some time to get adjusted with the split**\n",
    "\n",
    "**trainX**: training set for X\n",
    "\n",
    "**testX**: test set for X\n",
    "\n",
    "**trainY**: training set for Y\n",
    "\n",
    "**testY**: test set for Y"
   ]
  },
  {
   "cell_type": "markdown",
   "id": "9a30066d",
   "metadata": {},
   "source": [
    "Our initial dataframe has 30 rows, 2 columns.\n",
    "\n",
    "After the split, we have 24 rows in training arrays (trainX, trainY) and 6 rows in test arrays (testX, testY)"
   ]
  },
  {
   "cell_type": "code",
   "execution_count": 28,
   "id": "7a757ef8",
   "metadata": {},
   "outputs": [
    {
     "data": {
      "text/plain": [
       "(30, 2)"
      ]
     },
     "execution_count": 28,
     "metadata": {},
     "output_type": "execute_result"
    }
   ],
   "source": [
    "icecream.shape"
   ]
  },
  {
   "cell_type": "code",
   "execution_count": 29,
   "id": "cbd585b6",
   "metadata": {},
   "outputs": [
    {
     "data": {
      "text/plain": [
       "(24, 1)"
      ]
     },
     "execution_count": 29,
     "metadata": {},
     "output_type": "execute_result"
    }
   ],
   "source": [
    "trainX.shape"
   ]
  },
  {
   "cell_type": "code",
   "execution_count": 30,
   "id": "916d8a99",
   "metadata": {},
   "outputs": [
    {
     "data": {
      "text/plain": [
       "(24, 1)"
      ]
     },
     "execution_count": 30,
     "metadata": {},
     "output_type": "execute_result"
    }
   ],
   "source": [
    "trainY.shape"
   ]
  },
  {
   "cell_type": "code",
   "execution_count": 31,
   "id": "87e3cfcb",
   "metadata": {},
   "outputs": [
    {
     "data": {
      "text/plain": [
       "(6, 1)"
      ]
     },
     "execution_count": 31,
     "metadata": {},
     "output_type": "execute_result"
    }
   ],
   "source": [
    "testX.shape"
   ]
  },
  {
   "cell_type": "code",
   "execution_count": 32,
   "id": "7ffd6c3b",
   "metadata": {},
   "outputs": [
    {
     "data": {
      "text/plain": [
       "(6, 1)"
      ]
     },
     "execution_count": 32,
     "metadata": {},
     "output_type": "execute_result"
    }
   ],
   "source": [
    "testY.shape"
   ]
  },
  {
   "cell_type": "markdown",
   "id": "69d1ca02",
   "metadata": {},
   "source": [
    "### Import Linear Regression "
   ]
  },
  {
   "cell_type": "code",
   "execution_count": 33,
   "id": "7f60d216",
   "metadata": {},
   "outputs": [],
   "source": [
    "from sklearn.linear_model import LinearRegression"
   ]
  },
  {
   "cell_type": "markdown",
   "id": "ac9a29a2",
   "metadata": {},
   "source": [
    "\n",
    "Call the LinearRegression class that we imported with sklearn"
   ]
  },
  {
   "cell_type": "code",
   "execution_count": 34,
   "id": "985de596",
   "metadata": {},
   "outputs": [],
   "source": [
    "\n",
    "reg = LinearRegression()\n"
   ]
  },
  {
   "cell_type": "markdown",
   "id": "839a38e1",
   "metadata": {},
   "source": [
    "**All hail scikit-learn**\n",
    "\n",
    "I love scikit-learn, banzai.\n",
    "\n",
    "All we need to do to train the model is pass train arrays inside the fit method and that's it. Model will be trained on the train arrays.\n"
   ]
  },
  {
   "cell_type": "code",
   "execution_count": 35,
   "id": "0f7836fe",
   "metadata": {},
   "outputs": [
    {
     "data": {
      "text/html": [
       "<style>#sk-container-id-1 {color: black;background-color: white;}#sk-container-id-1 pre{padding: 0;}#sk-container-id-1 div.sk-toggleable {background-color: white;}#sk-container-id-1 label.sk-toggleable__label {cursor: pointer;display: block;width: 100%;margin-bottom: 0;padding: 0.3em;box-sizing: border-box;text-align: center;}#sk-container-id-1 label.sk-toggleable__label-arrow:before {content: \"▸\";float: left;margin-right: 0.25em;color: #696969;}#sk-container-id-1 label.sk-toggleable__label-arrow:hover:before {color: black;}#sk-container-id-1 div.sk-estimator:hover label.sk-toggleable__label-arrow:before {color: black;}#sk-container-id-1 div.sk-toggleable__content {max-height: 0;max-width: 0;overflow: hidden;text-align: left;background-color: #f0f8ff;}#sk-container-id-1 div.sk-toggleable__content pre {margin: 0.2em;color: black;border-radius: 0.25em;background-color: #f0f8ff;}#sk-container-id-1 input.sk-toggleable__control:checked~div.sk-toggleable__content {max-height: 200px;max-width: 100%;overflow: auto;}#sk-container-id-1 input.sk-toggleable__control:checked~label.sk-toggleable__label-arrow:before {content: \"▾\";}#sk-container-id-1 div.sk-estimator input.sk-toggleable__control:checked~label.sk-toggleable__label {background-color: #d4ebff;}#sk-container-id-1 div.sk-label input.sk-toggleable__control:checked~label.sk-toggleable__label {background-color: #d4ebff;}#sk-container-id-1 input.sk-hidden--visually {border: 0;clip: rect(1px 1px 1px 1px);clip: rect(1px, 1px, 1px, 1px);height: 1px;margin: -1px;overflow: hidden;padding: 0;position: absolute;width: 1px;}#sk-container-id-1 div.sk-estimator {font-family: monospace;background-color: #f0f8ff;border: 1px dotted black;border-radius: 0.25em;box-sizing: border-box;margin-bottom: 0.5em;}#sk-container-id-1 div.sk-estimator:hover {background-color: #d4ebff;}#sk-container-id-1 div.sk-parallel-item::after {content: \"\";width: 100%;border-bottom: 1px solid gray;flex-grow: 1;}#sk-container-id-1 div.sk-label:hover label.sk-toggleable__label {background-color: #d4ebff;}#sk-container-id-1 div.sk-serial::before {content: \"\";position: absolute;border-left: 1px solid gray;box-sizing: border-box;top: 0;bottom: 0;left: 50%;z-index: 0;}#sk-container-id-1 div.sk-serial {display: flex;flex-direction: column;align-items: center;background-color: white;padding-right: 0.2em;padding-left: 0.2em;position: relative;}#sk-container-id-1 div.sk-item {position: relative;z-index: 1;}#sk-container-id-1 div.sk-parallel {display: flex;align-items: stretch;justify-content: center;background-color: white;position: relative;}#sk-container-id-1 div.sk-item::before, #sk-container-id-1 div.sk-parallel-item::before {content: \"\";position: absolute;border-left: 1px solid gray;box-sizing: border-box;top: 0;bottom: 0;left: 50%;z-index: -1;}#sk-container-id-1 div.sk-parallel-item {display: flex;flex-direction: column;z-index: 1;position: relative;background-color: white;}#sk-container-id-1 div.sk-parallel-item:first-child::after {align-self: flex-end;width: 50%;}#sk-container-id-1 div.sk-parallel-item:last-child::after {align-self: flex-start;width: 50%;}#sk-container-id-1 div.sk-parallel-item:only-child::after {width: 0;}#sk-container-id-1 div.sk-dashed-wrapped {border: 1px dashed gray;margin: 0 0.4em 0.5em 0.4em;box-sizing: border-box;padding-bottom: 0.4em;background-color: white;}#sk-container-id-1 div.sk-label label {font-family: monospace;font-weight: bold;display: inline-block;line-height: 1.2em;}#sk-container-id-1 div.sk-label-container {text-align: center;}#sk-container-id-1 div.sk-container {/* jupyter's `normalize.less` sets `[hidden] { display: none; }` but bootstrap.min.css set `[hidden] { display: none !important; }` so we also need the `!important` here to be able to override the default hidden behavior on the sphinx rendered scikit-learn.org. See: https://github.com/scikit-learn/scikit-learn/issues/21755 */display: inline-block !important;position: relative;}#sk-container-id-1 div.sk-text-repr-fallback {display: none;}</style><div id=\"sk-container-id-1\" class=\"sk-top-container\"><div class=\"sk-text-repr-fallback\"><pre>LinearRegression()</pre><b>In a Jupyter environment, please rerun this cell to show the HTML representation or trust the notebook. <br />On GitHub, the HTML representation is unable to render, please try loading this page with nbviewer.org.</b></div><div class=\"sk-container\" hidden><div class=\"sk-item\"><div class=\"sk-estimator sk-toggleable\"><input class=\"sk-toggleable__control sk-hidden--visually\" id=\"sk-estimator-id-1\" type=\"checkbox\" checked><label for=\"sk-estimator-id-1\" class=\"sk-toggleable__label sk-toggleable__label-arrow\">LinearRegression</label><div class=\"sk-toggleable__content\"><pre>LinearRegression()</pre></div></div></div></div></div>"
      ],
      "text/plain": [
       "LinearRegression()"
      ]
     },
     "execution_count": 35,
     "metadata": {},
     "output_type": "execute_result"
    }
   ],
   "source": [
    "reg.fit(trainX, trainY)"
   ]
  },
  {
   "cell_type": "markdown",
   "id": "c02e62a2",
   "metadata": {},
   "source": [
    "\n",
    "**Note**: Even though, we have trained the model by scikit-learn defaults, we haven't yet tuned the hyper-parameters which we will discuss at a later time. Trust scikit-learn, it makes our life easy."
   ]
  },
  {
   "cell_type": "markdown",
   "id": "d78ab924",
   "metadata": {},
   "source": [
    "We'll now use random temperature value/s to predict consumption value.\n",
    "\n",
    "**Remember to make its shape similar to the shape of X, independent variable** (1 column)"
   ]
  },
  {
   "cell_type": "code",
   "execution_count": 36,
   "id": "1a0bde2f",
   "metadata": {},
   "outputs": [
    {
     "data": {
      "text/plain": [
       "array([[55]])"
      ]
     },
     "execution_count": 36,
     "metadata": {},
     "output_type": "execute_result"
    }
   ],
   "source": [
    "temperature = np.array(55).reshape(-1,1)\n",
    "temperature"
   ]
  },
  {
   "cell_type": "code",
   "execution_count": 37,
   "id": "f0d4bef5",
   "metadata": {},
   "outputs": [
    {
     "data": {
      "text/plain": [
       "array([[0.38880758]])"
      ]
     },
     "execution_count": 37,
     "metadata": {},
     "output_type": "execute_result"
    }
   ],
   "source": [
    "predictions = reg.predict(temperature)\n",
    "\n",
    "predictions"
   ]
  },
  {
   "cell_type": "code",
   "execution_count": 38,
   "id": "238c4da9",
   "metadata": {},
   "outputs": [
    {
     "data": {
      "text/plain": [
       "array([[55],\n",
       "       [40],\n",
       "       [50],\n",
       "       [60]])"
      ]
     },
     "execution_count": 38,
     "metadata": {},
     "output_type": "execute_result"
    }
   ],
   "source": [
    "temperature_array = np.array([55, 40, 50, 60]).reshape(-1, 1) # 1 column\n",
    "temperature_array"
   ]
  },
  {
   "cell_type": "code",
   "execution_count": 39,
   "id": "29a3173e",
   "metadata": {},
   "outputs": [
    {
     "data": {
      "text/plain": [
       "array([[0.38880758],\n",
       "       [0.34217563],\n",
       "       [0.3732636 ],\n",
       "       [0.40435156]])"
      ]
     },
     "execution_count": 39,
     "metadata": {},
     "output_type": "execute_result"
    }
   ],
   "source": [
    "predictions_array = reg.predict(temperature_array)\n",
    "predictions_array"
   ]
  },
  {
   "cell_type": "markdown",
   "id": "03a96175",
   "metadata": {},
   "source": [
    "Predicted array followed the same shape as of input independent variable array i.e. temperature_array"
   ]
  },
  {
   "cell_type": "markdown",
   "id": "a5889da3",
   "metadata": {},
   "source": [
    "Lets evaluate using the test dataset. We already have the actual consumption values from test set (testY). Lets make predictions using the values of test set of independent variable (testX) and call its predictions as predictionsY."
   ]
  },
  {
   "cell_type": "code",
   "execution_count": 40,
   "id": "7615fd84",
   "metadata": {},
   "outputs": [
    {
     "data": {
      "text/plain": [
       "array([[0.31730526],\n",
       "       [0.41989555],\n",
       "       [0.36393721],\n",
       "       [0.31730526],\n",
       "       [0.40435156],\n",
       "       [0.34217563]])"
      ]
     },
     "execution_count": 40,
     "metadata": {},
     "output_type": "execute_result"
    }
   ],
   "source": [
    "predictionsY = reg.predict(testX)\n",
    "predictionsY"
   ]
  },
  {
   "cell_type": "markdown",
   "id": "ea517e57",
   "metadata": {},
   "source": [
    "Actual values, dependent values of test set (testY)"
   ]
  },
  {
   "cell_type": "code",
   "execution_count": 41,
   "id": "b66a88a4",
   "metadata": {},
   "outputs": [
    {
     "data": {
      "text/plain": [
       "array([[0.284],\n",
       "       [0.344],\n",
       "       [0.288],\n",
       "       [0.269],\n",
       "       [0.342],\n",
       "       [0.307]])"
      ]
     },
     "execution_count": 41,
     "metadata": {},
     "output_type": "execute_result"
    }
   ],
   "source": [
    "testY"
   ]
  },
  {
   "cell_type": "markdown",
   "id": "9957f246",
   "metadata": {},
   "source": [
    "# Regression score (Optional)\n",
    "\n",
    "Google: \"Check regression score python 3 sklearn\" for more info."
   ]
  },
  {
   "cell_type": "markdown",
   "id": "54f989d8",
   "metadata": {},
   "source": [
    "Remember, the slope (a) and y_intercept (b) of regression line. $$Y = aX + b$$"
   ]
  },
  {
   "cell_type": "markdown",
   "id": "42ddf8b4",
   "metadata": {},
   "source": [
    "This is the y_intercept (b), bias"
   ]
  },
  {
   "cell_type": "code",
   "execution_count": 42,
   "id": "9c66269a",
   "metadata": {},
   "outputs": [
    {
     "data": {
      "text/plain": [
       "array([0.21782377])"
      ]
     },
     "execution_count": 42,
     "metadata": {},
     "output_type": "execute_result"
    }
   ],
   "source": [
    "b = reg.intercept_\n",
    "b"
   ]
  },
  {
   "cell_type": "code",
   "execution_count": 43,
   "id": "56cf166d",
   "metadata": {},
   "outputs": [
    {
     "data": {
      "text/plain": [
       "(1,)"
      ]
     },
     "execution_count": 43,
     "metadata": {},
     "output_type": "execute_result"
    }
   ],
   "source": [
    "b.shape"
   ]
  },
  {
   "cell_type": "markdown",
   "id": "c8bf8eee",
   "metadata": {},
   "source": [
    "This is the slope (a) "
   ]
  },
  {
   "cell_type": "code",
   "execution_count": 44,
   "id": "0a18bccb",
   "metadata": {},
   "outputs": [
    {
     "data": {
      "text/plain": [
       "array([[0.0031088]])"
      ]
     },
     "execution_count": 44,
     "metadata": {},
     "output_type": "execute_result"
    }
   ],
   "source": [
    "a = reg.coef_\n",
    "a"
   ]
  },
  {
   "cell_type": "markdown",
   "id": "ed592e19",
   "metadata": {},
   "source": [
    "Look closer shape of a is different from the shape of b, so we'll reshape a because in line equation slope and intercept are constants (not arrays)"
   ]
  },
  {
   "cell_type": "code",
   "execution_count": 45,
   "id": "07c029a5",
   "metadata": {},
   "outputs": [
    {
     "data": {
      "text/plain": [
       "(1, 1)"
      ]
     },
     "execution_count": 45,
     "metadata": {},
     "output_type": "execute_result"
    }
   ],
   "source": [
    "a.shape"
   ]
  },
  {
   "cell_type": "code",
   "execution_count": 46,
   "id": "ed71b5e3",
   "metadata": {},
   "outputs": [
    {
     "data": {
      "text/plain": [
       "array([0.0031088])"
      ]
     },
     "execution_count": 46,
     "metadata": {},
     "output_type": "execute_result"
    }
   ],
   "source": [
    "a = a.reshape(1,)\n",
    "a"
   ]
  },
  {
   "cell_type": "code",
   "execution_count": 47,
   "id": "159281b3",
   "metadata": {},
   "outputs": [
    {
     "data": {
      "text/plain": [
       "(1,)"
      ]
     },
     "execution_count": 47,
     "metadata": {},
     "output_type": "execute_result"
    }
   ],
   "source": [
    "a.shape"
   ]
  },
  {
   "cell_type": "markdown",
   "id": "1bcbeadb",
   "metadata": {},
   "source": [
    "### Visualize using line equation"
   ]
  },
  {
   "cell_type": "markdown",
   "id": "fb706d74",
   "metadata": {},
   "source": [
    "Let's use the equation $$Y = aX + b$$ to plot a line"
   ]
  },
  {
   "cell_type": "code",
   "execution_count": 48,
   "id": "5bf0fc3a",
   "metadata": {
    "scrolled": false
   },
   "outputs": [
    {
     "data": {
      "image/png": "[encoded data removed]",
      "text/plain": [
       "<Figure size 800x400 with 1 Axes>"
      ]
     },
     "metadata": {},
     "output_type": "display_data"
    }
   ],
   "source": [
    "import matplotlib.pyplot as plt\n",
    "import seaborn as sns\n",
    "\n",
    "sns.set_style(\"whitegrid\")\n",
    "%matplotlib inline\n",
    "\n",
    "# Create dummy x values\n",
    "x = np.linspace(0, 80, 10)\n",
    "\n",
    "# Line equation: Create dummy y values by using dummy x values \n",
    "y = a * x + b\n",
    "\n",
    "plt.figure(figsize=(8, 4))\n",
    "plt.plot(x, y, c=\"grey\", lw=4, alpha=0.5)\n",
    "plt.title(\"Linear Model Graph of temperature vs consumption\")\n",
    "plt.xlabel(\"Temperatures\")\n",
    "plt.ylabel(\"Consumption of icecream\")\n",
    "plt.ylim([0, 0.8])\n",
    "plt.xlim([0, 80])\n",
    "plt.scatter(icecream[\"temp\"], icecream[\"cons\"], c=\"red\", s=100, alpha=0.7)\n",
    "plt.show()"
   ]
  },
  {
   "cell_type": "markdown",
   "id": "7d053df7",
   "metadata": {},
   "source": [
    "It is clear that the line with y_intercept (b) = 0.212 and slope (a) = 0.003 is the **line of best fit**."
   ]
  },
  {
   "cell_type": "markdown",
   "id": "576161ea",
   "metadata": {},
   "source": [
    "### Root Mean Squared Error\n",
    "\n",
    "Can be intuitively thought of as a L2 norm or **average of the error**, like how far our predictions are expected to lie with respect to actual value.\n",
    "\n",
    "Remember, euclidian distance? Distance formula. That's L2 norm. Squared root of squares of difference."
   ]
  },
  {
   "cell_type": "markdown",
   "id": "93f50546",
   "metadata": {},
   "source": [
    "We had 3 training examples in chapter 1. \n",
    "\n",
    "**Equation**: $$Y = aX + b$$\n",
    "\n",
    "**Hyper-parameters**: slope (a) and co-efficient (b). According to that, rmse becomes\n",
    "\n",
    "$$RMSE(a,b) = \\sqrt{ \\frac{1}{2m} \\sum\\limits_{i=0}^{m-1} (predictedValue^{(i)} - actualValue^{(i)} )^2}$$ \n",
    "\n",
    "    where,\n",
    "    m = 3: total training examples\n",
    "    i = 0, 1, 2\n",
    "    \n",
    "$$RMSE(a,b) = \\sqrt{ \\frac{1}{2*3} ((pred0 - actual0)^2 + (pred1 - actual1)^2 + (pred2 - actual2)^2)}$$ "
   ]
  },
  {
   "cell_type": "code",
   "execution_count": 49,
   "id": "01805f9d",
   "metadata": {},
   "outputs": [],
   "source": [
    "from sklearn.metrics import mean_squared_error"
   ]
  },
  {
   "cell_type": "code",
   "execution_count": 50,
   "id": "ad5aeb9c",
   "metadata": {},
   "outputs": [
    {
     "data": {
      "text/plain": [
       "0.05787094220019479"
      ]
     },
     "execution_count": 50,
     "metadata": {},
     "output_type": "execute_result"
    }
   ],
   "source": [
    "rmse = np.sqrt(mean_squared_error(testY, predictionsY))\n",
    "rmse"
   ]
  },
  {
   "cell_type": "markdown",
   "id": "84e84d10",
   "metadata": {},
   "source": [
    "### Compare rmse with difference in actual values vs predicted values\n",
    "\n",
    "The difference_error column contains absolute difference between actual values and predicted values."
   ]
  },
  {
   "cell_type": "code",
   "execution_count": 51,
   "id": "f437cd87",
   "metadata": {
    "scrolled": false
   },
   "outputs": [
    {
     "data": {
      "text/html": [
       "<div>\n",
       "<style scoped>\n",
       "    .dataframe tbody tr th:only-of-type {\n",
       "        vertical-align: middle;\n",
       "    }\n",
       "\n",
       "    .dataframe tbody tr th {\n",
       "        vertical-align: top;\n",
       "    }\n",
       "\n",
       "    .dataframe thead th {\n",
       "        text-align: right;\n",
       "    }\n",
       "</style>\n",
       "<table border=\"1\" class=\"dataframe\">\n",
       "  <thead>\n",
       "    <tr style=\"text-align: right;\">\n",
       "      <th></th>\n",
       "      <th>actual values</th>\n",
       "      <th>predicted values</th>\n",
       "      <th>difference_error</th>\n",
       "      <th>rmse</th>\n",
       "    </tr>\n",
       "  </thead>\n",
       "  <tbody>\n",
       "    <tr>\n",
       "      <th>0</th>\n",
       "      <td>0.386</td>\n",
       "      <td>0.345284</td>\n",
       "      <td>0.040716</td>\n",
       "      <td>0.057871</td>\n",
       "    </tr>\n",
       "    <tr>\n",
       "      <th>1</th>\n",
       "      <td>0.374</td>\n",
       "      <td>0.391916</td>\n",
       "      <td>0.017916</td>\n",
       "      <td>0.057871</td>\n",
       "    </tr>\n",
       "    <tr>\n",
       "      <th>2</th>\n",
       "      <td>0.393</td>\n",
       "      <td>0.413678</td>\n",
       "      <td>0.020678</td>\n",
       "      <td>0.057871</td>\n",
       "    </tr>\n",
       "    <tr>\n",
       "      <th>3</th>\n",
       "      <td>0.425</td>\n",
       "      <td>0.429222</td>\n",
       "      <td>0.004222</td>\n",
       "      <td>0.057871</td>\n",
       "    </tr>\n",
       "    <tr>\n",
       "      <th>4</th>\n",
       "      <td>0.406</td>\n",
       "      <td>0.432331</td>\n",
       "      <td>0.026331</td>\n",
       "      <td>0.057871</td>\n",
       "    </tr>\n",
       "    <tr>\n",
       "      <th>5</th>\n",
       "      <td>0.344</td>\n",
       "      <td>0.419896</td>\n",
       "      <td>0.075896</td>\n",
       "      <td>0.057871</td>\n",
       "    </tr>\n",
       "    <tr>\n",
       "      <th>6</th>\n",
       "      <td>0.327</td>\n",
       "      <td>0.407460</td>\n",
       "      <td>0.080460</td>\n",
       "      <td>0.057871</td>\n",
       "    </tr>\n",
       "    <tr>\n",
       "      <th>7</th>\n",
       "      <td>0.288</td>\n",
       "      <td>0.363937</td>\n",
       "      <td>0.075937</td>\n",
       "      <td>0.057871</td>\n",
       "    </tr>\n",
       "    <tr>\n",
       "      <th>8</th>\n",
       "      <td>0.269</td>\n",
       "      <td>0.317305</td>\n",
       "      <td>0.048305</td>\n",
       "      <td>0.057871</td>\n",
       "    </tr>\n",
       "    <tr>\n",
       "      <th>9</th>\n",
       "      <td>0.256</td>\n",
       "      <td>0.292435</td>\n",
       "      <td>0.036435</td>\n",
       "      <td>0.057871</td>\n",
       "    </tr>\n",
       "    <tr>\n",
       "      <th>10</th>\n",
       "      <td>0.286</td>\n",
       "      <td>0.304870</td>\n",
       "      <td>0.018870</td>\n",
       "      <td>0.057871</td>\n",
       "    </tr>\n",
       "    <tr>\n",
       "      <th>11</th>\n",
       "      <td>0.298</td>\n",
       "      <td>0.298652</td>\n",
       "      <td>0.000652</td>\n",
       "      <td>0.057871</td>\n",
       "    </tr>\n",
       "    <tr>\n",
       "      <th>12</th>\n",
       "      <td>0.329</td>\n",
       "      <td>0.317305</td>\n",
       "      <td>0.011695</td>\n",
       "      <td>0.057871</td>\n",
       "    </tr>\n",
       "    <tr>\n",
       "      <th>13</th>\n",
       "      <td>0.318</td>\n",
       "      <td>0.342176</td>\n",
       "      <td>0.024176</td>\n",
       "      <td>0.057871</td>\n",
       "    </tr>\n",
       "    <tr>\n",
       "      <th>14</th>\n",
       "      <td>0.381</td>\n",
       "      <td>0.388808</td>\n",
       "      <td>0.007808</td>\n",
       "      <td>0.057871</td>\n",
       "    </tr>\n",
       "    <tr>\n",
       "      <th>15</th>\n",
       "      <td>0.381</td>\n",
       "      <td>0.413678</td>\n",
       "      <td>0.032678</td>\n",
       "      <td>0.057871</td>\n",
       "    </tr>\n",
       "    <tr>\n",
       "      <th>16</th>\n",
       "      <td>0.470</td>\n",
       "      <td>0.441657</td>\n",
       "      <td>0.028343</td>\n",
       "      <td>0.057871</td>\n",
       "    </tr>\n",
       "    <tr>\n",
       "      <th>17</th>\n",
       "      <td>0.443</td>\n",
       "      <td>0.441657</td>\n",
       "      <td>0.001343</td>\n",
       "      <td>0.057871</td>\n",
       "    </tr>\n",
       "    <tr>\n",
       "      <th>18</th>\n",
       "      <td>0.386</td>\n",
       "      <td>0.426113</td>\n",
       "      <td>0.040113</td>\n",
       "      <td>0.057871</td>\n",
       "    </tr>\n",
       "    <tr>\n",
       "      <th>19</th>\n",
       "      <td>0.342</td>\n",
       "      <td>0.404352</td>\n",
       "      <td>0.062352</td>\n",
       "      <td>0.057871</td>\n",
       "    </tr>\n",
       "    <tr>\n",
       "      <th>20</th>\n",
       "      <td>0.319</td>\n",
       "      <td>0.354611</td>\n",
       "      <td>0.035611</td>\n",
       "      <td>0.057871</td>\n",
       "    </tr>\n",
       "    <tr>\n",
       "      <th>21</th>\n",
       "      <td>0.307</td>\n",
       "      <td>0.342176</td>\n",
       "      <td>0.035176</td>\n",
       "      <td>0.057871</td>\n",
       "    </tr>\n",
       "    <tr>\n",
       "      <th>22</th>\n",
       "      <td>0.284</td>\n",
       "      <td>0.317305</td>\n",
       "      <td>0.033305</td>\n",
       "      <td>0.057871</td>\n",
       "    </tr>\n",
       "    <tr>\n",
       "      <th>23</th>\n",
       "      <td>0.326</td>\n",
       "      <td>0.301761</td>\n",
       "      <td>0.024239</td>\n",
       "      <td>0.057871</td>\n",
       "    </tr>\n",
       "    <tr>\n",
       "      <th>24</th>\n",
       "      <td>0.309</td>\n",
       "      <td>0.304870</td>\n",
       "      <td>0.004130</td>\n",
       "      <td>0.057871</td>\n",
       "    </tr>\n",
       "    <tr>\n",
       "      <th>25</th>\n",
       "      <td>0.359</td>\n",
       "      <td>0.320414</td>\n",
       "      <td>0.038586</td>\n",
       "      <td>0.057871</td>\n",
       "    </tr>\n",
       "    <tr>\n",
       "      <th>26</th>\n",
       "      <td>0.376</td>\n",
       "      <td>0.345284</td>\n",
       "      <td>0.030716</td>\n",
       "      <td>0.057871</td>\n",
       "    </tr>\n",
       "    <tr>\n",
       "      <th>27</th>\n",
       "      <td>0.416</td>\n",
       "      <td>0.379481</td>\n",
       "      <td>0.036519</td>\n",
       "      <td>0.057871</td>\n",
       "    </tr>\n",
       "    <tr>\n",
       "      <th>28</th>\n",
       "      <td>0.437</td>\n",
       "      <td>0.416787</td>\n",
       "      <td>0.020213</td>\n",
       "      <td>0.057871</td>\n",
       "    </tr>\n",
       "    <tr>\n",
       "      <th>29</th>\n",
       "      <td>0.548</td>\n",
       "      <td>0.438548</td>\n",
       "      <td>0.109452</td>\n",
       "      <td>0.057871</td>\n",
       "    </tr>\n",
       "  </tbody>\n",
       "</table>\n",
       "</div>"
      ],
      "text/plain": [
       "    actual values  predicted values  difference_error      rmse\n",
       "0           0.386          0.345284          0.040716  0.057871\n",
       "1           0.374          0.391916          0.017916  0.057871\n",
       "2           0.393          0.413678          0.020678  0.057871\n",
       "3           0.425          0.429222          0.004222  0.057871\n",
       "4           0.406          0.432331          0.026331  0.057871\n",
       "5           0.344          0.419896          0.075896  0.057871\n",
       "6           0.327          0.407460          0.080460  0.057871\n",
       "7           0.288          0.363937          0.075937  0.057871\n",
       "8           0.269          0.317305          0.048305  0.057871\n",
       "9           0.256          0.292435          0.036435  0.057871\n",
       "10          0.286          0.304870          0.018870  0.057871\n",
       "11          0.298          0.298652          0.000652  0.057871\n",
       "12          0.329          0.317305          0.011695  0.057871\n",
       "13          0.318          0.342176          0.024176  0.057871\n",
       "14          0.381          0.388808          0.007808  0.057871\n",
       "15          0.381          0.413678          0.032678  0.057871\n",
       "16          0.470          0.441657          0.028343  0.057871\n",
       "17          0.443          0.441657          0.001343  0.057871\n",
       "18          0.386          0.426113          0.040113  0.057871\n",
       "19          0.342          0.404352          0.062352  0.057871\n",
       "20          0.319          0.354611          0.035611  0.057871\n",
       "21          0.307          0.342176          0.035176  0.057871\n",
       "22          0.284          0.317305          0.033305  0.057871\n",
       "23          0.326          0.301761          0.024239  0.057871\n",
       "24          0.309          0.304870          0.004130  0.057871\n",
       "25          0.359          0.320414          0.038586  0.057871\n",
       "26          0.376          0.345284          0.030716  0.057871\n",
       "27          0.416          0.379481          0.036519  0.057871\n",
       "28          0.437          0.416787          0.020213  0.057871\n",
       "29          0.548          0.438548          0.109452  0.057871"
      ]
     },
     "execution_count": 51,
     "metadata": {},
     "output_type": "execute_result"
    }
   ],
   "source": [
    "RMSE_df = pd.DataFrame({\n",
    "    \"actual values\" : np.array(icecream[\"cons\"]),\n",
    "    \"predicted values\" : reg.predict(np.array(icecream[\"temp\"]).reshape(-1,1)).reshape(-1)\n",
    "})\n",
    "RMSE_df[\"difference_error\"] = np.absolute(RMSE_df[\"actual values\"] - RMSE_df[\"predicted values\"])\n",
    "RMSE_df[\"rmse\"] = np.repeat(rmse, icecream.shape[0])\n",
    "RMSE_df"
   ]
  },
  {
   "cell_type": "markdown",
   "id": "e76705f2",
   "metadata": {},
   "source": [
    "### Visualize using Seaborn"
   ]
  },
  {
   "cell_type": "code",
   "execution_count": 52,
   "id": "16b22599",
   "metadata": {},
   "outputs": [
    {
     "data": {
      "text/plain": [
       "[]"
      ]
     },
     "execution_count": 52,
     "metadata": {},
     "output_type": "execute_result"
    },
    {
     "data": {
      "image/png": "[encoded data removed]",
      "text/plain": [
       "<Figure size 500x500 with 1 Axes>"
      ]
     },
     "metadata": {},
     "output_type": "display_data"
    }
   ],
   "source": [
    "sns.lmplot(data = icecream, x=\"temp\", y=\"cons\")\n",
    "plt.plot()"
   ]
  },
  {
   "cell_type": "markdown",
   "id": "347c855a",
   "metadata": {},
   "source": [
    "### Score\n",
    "\n",
    "**score** returns the coefficient of determination of the prediction"
   ]
  },
  {
   "cell_type": "code",
   "execution_count": 53,
   "id": "8728dd44",
   "metadata": {},
   "outputs": [
    {
     "data": {
      "text/plain": [
       "0.660686578618846"
      ]
     },
     "execution_count": 53,
     "metadata": {},
     "output_type": "execute_result"
    }
   ],
   "source": [
    "reg.score(trainX, trainY)"
   ]
  },
  {
   "cell_type": "code",
   "execution_count": null,
   "id": "769ad03d",
   "metadata": {},
   "outputs": [],
   "source": []
  }
 ],
 "metadata": {
  "kernelspec": {
   "display_name": "Python 3 (ipykernel)",
   "language": "python",
   "name": "python3"
  },
  "language_info": {
   "codemirror_mode": {
    "name": "ipython",
    "version": 3
   },
   "file_extension": ".py",
   "mimetype": "text/x-python",
   "name": "python",
   "nbconvert_exporter": "python",
   "pygments_lexer": "ipython3",
   "version": "3.10.9"
  }
 },
 "nbformat": 4,
 "nbformat_minor": 5
}
